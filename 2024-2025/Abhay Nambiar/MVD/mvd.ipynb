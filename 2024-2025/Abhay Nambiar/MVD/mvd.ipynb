{
 "cells": [
  {
   "cell_type": "markdown",
   "metadata": {},
   "source": [
    "# Demo for Trading Backtesting"
   ]
  },
  {
   "cell_type": "markdown",
   "metadata": {},
   "source": [
    "I have a previous project which is helpful to simply have something as a simple single stock backtester.\n",
    "\n",
    "It is important to note that this does not include a universe of tickers or have shorting mechanics (*just has long positions and take profit/stop loss logic*)"
   ]
  },
  {
   "cell_type": "code",
   "execution_count": 21,
   "metadata": {},
   "outputs": [
    {
     "data": {
      "text/html": [
       "<div>\n",
       "<style scoped>\n",
       "    .dataframe tbody tr th:only-of-type {\n",
       "        vertical-align: middle;\n",
       "    }\n",
       "\n",
       "    .dataframe tbody tr th {\n",
       "        vertical-align: top;\n",
       "    }\n",
       "\n",
       "    .dataframe thead th {\n",
       "        text-align: right;\n",
       "    }\n",
       "</style>\n",
       "<table border=\"1\" class=\"dataframe\">\n",
       "  <thead>\n",
       "    <tr style=\"text-align: right;\">\n",
       "      <th></th>\n",
       "      <th>Date</th>\n",
       "      <th>Close</th>\n",
       "      <th>Volume</th>\n",
       "      <th>Open</th>\n",
       "      <th>High</th>\n",
       "      <th>Low</th>\n",
       "    </tr>\n",
       "  </thead>\n",
       "  <tbody>\n",
       "    <tr>\n",
       "      <th>0</th>\n",
       "      <td>2014-10-20</td>\n",
       "      <td>18.9544</td>\n",
       "      <td>302820160</td>\n",
       "      <td>18.679812</td>\n",
       "      <td>18.992400</td>\n",
       "      <td>18.6618</td>\n",
       "    </tr>\n",
       "    <tr>\n",
       "      <th>1</th>\n",
       "      <td>2014-10-21</td>\n",
       "      <td>19.4693</td>\n",
       "      <td>375146720</td>\n",
       "      <td>19.573800</td>\n",
       "      <td>19.573800</td>\n",
       "      <td>19.2413</td>\n",
       "    </tr>\n",
       "    <tr>\n",
       "      <th>2</th>\n",
       "      <td>2014-10-22</td>\n",
       "      <td>19.5681</td>\n",
       "      <td>272560040</td>\n",
       "      <td>19.539600</td>\n",
       "      <td>19.780900</td>\n",
       "      <td>19.4940</td>\n",
       "    </tr>\n",
       "    <tr>\n",
       "      <th>3</th>\n",
       "      <td>2014-10-23</td>\n",
       "      <td>19.9177</td>\n",
       "      <td>283040600</td>\n",
       "      <td>19.775200</td>\n",
       "      <td>19.959728</td>\n",
       "      <td>19.6897</td>\n",
       "    </tr>\n",
       "    <tr>\n",
       "      <th>4</th>\n",
       "      <td>2014-10-24</td>\n",
       "      <td>19.9918</td>\n",
       "      <td>187751520</td>\n",
       "      <td>19.984200</td>\n",
       "      <td>20.043100</td>\n",
       "      <td>19.8607</td>\n",
       "    </tr>\n",
       "  </tbody>\n",
       "</table>\n",
       "</div>"
      ],
      "text/plain": [
       "         Date    Close     Volume       Open       High      Low\n",
       "0  2014-10-20  18.9544  302820160  18.679812  18.992400  18.6618\n",
       "1  2014-10-21  19.4693  375146720  19.573800  19.573800  19.2413\n",
       "2  2014-10-22  19.5681  272560040  19.539600  19.780900  19.4940\n",
       "3  2014-10-23  19.9177  283040600  19.775200  19.959728  19.6897\n",
       "4  2014-10-24  19.9918  187751520  19.984200  20.043100  19.8607"
      ]
     },
     "execution_count": 21,
     "metadata": {},
     "output_type": "execute_result"
    }
   ],
   "source": [
    "\n",
    "import pandas as pd \n",
    "from enum import Enum\n",
    "from datetime import datetime\n",
    "import uuid \n",
    "import logging\n",
    "import math\n",
    "\n",
    "logging.basicConfig(\n",
    "    filename=\"debug.log\",\n",
    "    filemode=\"w\",\n",
    "    format=\"%(asctime)s - %(levelname)s - %(message)s\",\n",
    "    level=logging.DEBUG\n",
    ")\n",
    "\n",
    "\n",
    "# prices = pd.read_csv(\"Nvidia2024-2014.csv\")\n",
    "prices = pd.read_csv(\"APPL.csv\")\n",
    "\n",
    "prices.rename(columns={\"Close/Last\": \"Close\"}, inplace=True)\n",
    "\n",
    "usd_to_gbp_rate = 0.76\n",
    "\n",
    "price_columns = [\"Close\", \"Open\", \"High\", \"Low\"]\n",
    "\n",
    "prices[\"Date\"] = pd.to_datetime(prices[\"Date\"], format=\"%m/%d/%Y\").dt.strftime(\"%Y-%m-%d\")\n",
    "prices = prices.sort_values(by=\"Date\")\n",
    "\n",
    "prices = prices.reset_index(drop=True)\n",
    "\n",
    "prices.head()\n",
    "\n",
    "\n",
    "\n",
    "for col in price_columns:\n",
    "    prices[col] = prices[col].astype(str).replace({\"\\\\$\": \"\"}, regex=True).astype(float)\n",
    "\n",
    "for col in price_columns:\n",
    "    prices[col] = prices[col] * usd_to_gbp_rate\n",
    "prices.head()"
   ]
  },
  {
   "cell_type": "code",
   "execution_count": null,
   "metadata": {},
   "outputs": [],
   "source": []
  },
  {
   "cell_type": "code",
   "execution_count": 22,
   "metadata": {},
   "outputs": [
    {
     "name": "stdout",
     "output_type": "stream",
     "text": [
      "BOOK CASH LEVEL: £193,129,668,172.76\n",
      "RATE ON INVESTMENT: 19_312_966_817_176.00%\n",
      "ROUGH ANNUAL AVERAGE: 21.31%\n"
     ]
    }
   ],
   "source": [
    "df = pd.DataFrame(prices)\n",
    "\n",
    "df[\"AvgPrice\"] = (df[\"Open\"] + df[\"Close\"]) / 2\n",
    "\n",
    "df[\"AbsDiff\"] = df[\"AvgPrice\"].diff().abs()\n",
    "\n",
    "cash = 1\n",
    "trick = False\n",
    "for index,row in df.iterrows():\n",
    "    if(not trick):\n",
    "        trick = True\n",
    "        continue\n",
    "    cash *= (float(row[\"AbsDiff\"]) / float(row[\"AvgPrice\"])) + 1\n",
    "    \n",
    "print(\"BOOK CASH LEVEL:\", (\"£{:,.2f}\".format(cash)))\n",
    "pnl = cash - 1\n",
    "roi = (pnl / 1) * 100\n",
    "print(\"RATE ON INVESTMENT: {:_.2f}%\".format(roi))\n",
    "print(\"ROUGH ANNUAL AVERAGE: {:_.2f}%\".format(math.pow(roi,1/10)))"
   ]
  },
  {
   "cell_type": "markdown",
   "metadata": {},
   "source": [
    "## Initial framework for dummy trades"
   ]
  },
  {
   "cell_type": "code",
   "execution_count": 23,
   "metadata": {},
   "outputs": [],
   "source": [
    "INITIAL_WALLET_CASH = 5_000_000\n",
    "STANDARD_LOT = 100_000\n",
    "\n",
    "class Side(Enum):\n",
    "    BUY = \"BUY\"\n",
    "    SELL = \"SELL\"\n",
    "    SHORT = \"SHORT\"\n",
    "    COVER = \"COVER\"\n",
    "    \n",
    "class Currency(Enum):\n",
    "    GBP = \"GBP\"\n",
    "    USD = \"USD\"\n",
    "    \n",
    "class Position:\n",
    "    def __init__(self,\n",
    "                 date:datetime,\n",
    "                 size:int,\n",
    "                 price,\n",
    "                 currency:Currency,\n",
    "                 side:Side,\n",
    "                 is_short:bool = False):\n",
    "        \n",
    "        self._id = str(uuid.uuid4())\n",
    "        self._date = date\n",
    "        self._currency = currency\n",
    "        self._price = price\n",
    "        self._size = size\n",
    "        self._side = side\n",
    "        self._is_short = is_short\n",
    "        \n",
    "class Order:\n",
    "    def __init__(self,\n",
    "                 position:Position):\n",
    "        self._id = str(uuid.uuid4())\n",
    "        self._position = position\n",
    "    \n",
    "    def describe(self):\n",
    "        return f\"<Order id: {self._id} position: {self._position}>\"\n",
    "\n",
    "class Portfolio:\n",
    "    \n",
    "    def __init__(self):\n",
    "        self.cash_wallet = INITIAL_WALLET_CASH  # wallet is in GBP\n",
    "        self.current_positions = {}\n",
    "        self.closed_positions = {}\n",
    "        self.short_positions = {}\n",
    "    \n",
    "    def add_short_position(self, position):\n",
    "        self.short_positions[position._id] = position\n",
    "        self.add_to_wallet(self.calculate_short_credit(position))\n",
    "    \n",
    "    def cover_short_position(self, position):\n",
    "        if position._id in self.short_positions:\n",
    "            original_position = self.short_positions.pop(position._id)\n",
    "            self.closed_positions[position._id] = position\n",
    "            self.deduct_from_wallet(self.calculate_short_debit(original_position, position))\n",
    "    \n",
    "    def calculate_short_credit(self, position):\n",
    "        return position._price * (position._size * STANDARD_LOT)\n",
    "    \n",
    "    def calculate_short_debit(self, original_position, cover_position):\n",
    "        return cover_position._price * (original_position._size * STANDARD_LOT)\n",
    "    \n",
    "    def add_position(self,position):\n",
    "        self.current_positions[position._id] = position\n",
    "        self.deduct_from_wallet(self.calculate_deduction(position))\n",
    "                \n",
    "    def sell_position(self,position:Position):\n",
    "        self.current_positions.pop(position._id)\n",
    "        self.closed_positions[position._id] = position\n",
    "    \n",
    "    def get_wallet_value(self):\n",
    "        return self.cash_wallet\n",
    "    \n",
    "    def deduct_from_wallet(self,amount):\n",
    "        self.cash_wallet -= amount\n",
    "        \n",
    "    def add_to_wallet(self,amount):\n",
    "        self.cash_wallet += amount\n",
    "        \n",
    "    def calculate_fees(self,position:Position):\n",
    "        fee = position._size * 2 #broker fee is £2 per standard lot \n",
    "        logging.info(f\"FEE CHARGED: £{fee}\")\n",
    "        return fee \n",
    "    \n",
    "    def calculate_total_cost_in_gbp(self,position:Position):\n",
    "        if(position._currency == Currency.GBP):\n",
    "            return position._price * (position._size * STANDARD_LOT)\n",
    "        # elif(position._currency == Currency.USD):\n",
    "        #     return position._price * current_gbp_price  * (position._size * 100000) # x100000 for standard lot\n",
    "\n",
    "    def calculate_deduction(self,position):\n",
    "        return self.calculate_total_cost_in_gbp(position) + self.calculate_fees(position)\n",
    "    "
   ]
  },
  {
   "cell_type": "markdown",
   "metadata": {},
   "source": [
    "## Take Profit and Stop Loss mechanics"
   ]
  },
  {
   "cell_type": "code",
   "execution_count": 24,
   "metadata": {},
   "outputs": [],
   "source": [
    "def check_take_profit(FIXED_LOT_SIZE, A_REALLY_BIG_NUMBER, orders, tp_prices, row, currentP, date):\n",
    "    if (tp_prices != []):\n",
    "        cTP = min(tp_prices)\n",
    "            \n",
    "        while(currentP>=cTP):\n",
    "            sell_position = Position(date,FIXED_LOT_SIZE,row.Open,Currency.GBP,Side.SELL)\n",
    "            sell_order = Order(sell_position)\n",
    "            orders[sell_order._id] = sell_order\n",
    "                \n",
    "            tp_prices.pop(tp_prices.index(cTP))\n",
    "            try:\n",
    "                cTP = min(tp_prices)\n",
    "            except ValueError:\n",
    "                cTP = A_REALLY_BIG_NUMBER\n",
    "\n",
    "def check_stop_loss(FIXED_LOT_SIZE, A_REALLY_SMALL_NUMBER, orders, sl_prices, row, currentP, date):\n",
    "    if (sl_prices != []):\n",
    "        cSL = max(sl_prices)\n",
    "\n",
    "        while(currentP<=cSL):\n",
    "            sell_position = Position(date,FIXED_LOT_SIZE,row.Open,Currency.GBP,Side.SELL)\n",
    "            sell_order = Order(sell_position)\n",
    "            orders[sell_order._id] = sell_order\n",
    "\n",
    "            sl_prices.pop(sl_prices.index(cSL))\n",
    "            try:\n",
    "                cSL = max(sl_prices)\n",
    "\n",
    "            except ValueError:\n",
    "                cSL = A_REALLY_SMALL_NUMBER\n"
   ]
  },
  {
   "cell_type": "markdown",
   "metadata": {},
   "source": [
    "## Setup indicators\n",
    "\n",
    "Can add more strategies or remove ones that might not be impactful"
   ]
  },
  {
   "cell_type": "code",
   "execution_count": 25,
   "metadata": {},
   "outputs": [],
   "source": [
    "def setup_indicators(rsi_level, bb_mult, macd_period, data):\n",
    "     # calculate Bollinger Bands\n",
    "    data[\"MA20\"] = data[\"Close\"].rolling(window=20).mean()\n",
    "    data[\"MA20_std\"] = data[\"Close\"].rolling(window=20).std()\n",
    "    data[\"Upper_band\"] = data[\"MA20\"] + (data[\"MA20_std\"] * bb_mult)\n",
    "    data[\"Lower_band\"] = data[\"MA20\"] - (data[\"MA20_std\"] * bb_mult)\n",
    "    \n",
    "    # calculate RSI\n",
    "    period = 14\n",
    "    delta = data[\"Open\"].diff()\n",
    "    delta = delta[1:]\n",
    "    up, down = delta.copy(), delta.copy()\n",
    "    up[up < 0] = 0\n",
    "    down[down > 0] = 0\n",
    "    AVG_Gain = up.rolling(window=period).mean()\n",
    "    AVG_Loss = abs(down.rolling(window=period).mean())\n",
    "    RS = AVG_Gain / AVG_Loss\n",
    "    RSI = 100.0 - (100.0 / (1.0 + RS))\n",
    "    data[\"RSI\"] = RSI\n",
    "\n",
    "     # calculate Moving Average Convergence Divergence (MACD)\n",
    "    period_short = macd_period[0]\n",
    "    period_long = macd_period[1]\n",
    "    signal_period = 9\n",
    "    data_length = len(data)\n",
    "    data[\"EMA_short\"] = data[\"Close\"].ewm(span=period_short, adjust=False).mean()\n",
    "    data[\"EMA_long\"] = data[\"Close\"].ewm(span=period_long, adjust=False).mean()\n",
    "    data[\"MACD\"] = data[\"EMA_short\"] - data[\"EMA_long\"]\n",
    "    data[\"Signal\"] = data[\"MACD\"].ewm(span=signal_period, adjust=False).mean()\n",
    "\n",
    "    # calculate Stochastic Oscillator\n",
    "    period = 14\n",
    "    data[\"L14\"] = data[\"Low\"].rolling(window=period).min()\n",
    "    data[\"H14\"] = data[\"High\"].rolling(window=period).max()\n",
    "    data[\"%K\"] = (data[\"Close\"] - data[\"L14\"]) / (data[\"H14\"] - data[\"L14\"]) * 100\n",
    "    data[\"%D\"] = data[\"%K\"].rolling(window=3).mean()\n",
    "    return data\n"
   ]
  },
  {
   "cell_type": "markdown",
   "metadata": {},
   "source": [
    "## Strategy function\n",
    "\n",
    "edit the below cells to change the strategy, at the moment just use all the indicators to make a buy or sell order.\n",
    "can add more \"*special cases*\" for potential trading opportunities missed"
   ]
  },
  {
   "cell_type": "code",
   "execution_count": 26,
   "metadata": {},
   "outputs": [],
   "source": [
    "FIXED_LOT_SIZE = 10\n",
    "A_REALLY_BIG_NUMBER = 100_000_000\n",
    "A_REALLY_SMALL_NUMBER = 0.0000000000001\n",
    "\n",
    "def check_to_sell(orders, row, current_price, date, rsi_level):\n",
    "    if(row[\"Close\"] > row[\"Upper_band\"] or row[\"RSI\"] > rsi_level or row[\"MACD\"] < row[\"Signal\"] and (row[\"%K\"] > 80 and row[\"%D\"] > 80 and row[\"%K\"]<row[\"%D\"])):\n",
    "        sell_position = Position(date,FIXED_LOT_SIZE,current_price,Currency.GBP,Side.SELL)\n",
    "        sell_order = Order(sell_position)\n",
    "        orders[sell_order._id] = sell_order\n",
    "\n",
    "def check_to_buy(orders, tp_prices, sl_prices, row, current_price, date, rsi_level):\n",
    "    if((row[\"Close\"] < row[\"Lower_band\"] and row[\"RSI\"] < rsi_level) or row[\"MACD\"] > row[\"Signal\"] and (row[\"%K\"] < 20 and row[\"%D\"] < 20 and row[\"%K\"]<row[\"%D\"])):\n",
    "        buy_position = Position(date,FIXED_LOT_SIZE,current_price,Currency.GBP,Side.BUY)\n",
    "        buy_order = Order(buy_position)\n",
    "        orders[buy_order._id] = buy_order\n",
    "        tp_prices.append(row[\"Upper_band\"])\n",
    "        sl_prices.append(row[\"Lower_band\"])\n"
   ]
  },
  {
   "cell_type": "code",
   "execution_count": 27,
   "metadata": {},
   "outputs": [],
   "source": [
    "def strategy(rsi_level, bb_mult, macd_period, data):\n",
    "    \n",
    "    orders = {}\n",
    "    tp_prices=[]\n",
    "    sl_prices=[]\n",
    "    \n",
    "    data = setup_indicators(rsi_level, bb_mult, macd_period, data)\n",
    "    \n",
    "    for index,row in data.iterrows():\n",
    "        current_price = row[\"Open\"]+row[\"Close\"]/2\n",
    "\n",
    "        date = datetime.strptime(str(row[\"Date\"]),'%Y-%m-%d').date()\n",
    "        \n",
    "        check_take_profit(FIXED_LOT_SIZE, A_REALLY_BIG_NUMBER, orders, tp_prices, row, current_price, date)\n",
    "        check_stop_loss(FIXED_LOT_SIZE, A_REALLY_SMALL_NUMBER, orders, sl_prices, row, current_price, date)\n",
    "\n",
    "        \n",
    "        check_to_buy(orders, tp_prices, sl_prices, row, current_price, date, rsi_level[0])\n",
    "            \n",
    "\n",
    "        check_to_sell(orders, row, current_price, date, rsi_level[1])\n",
    "\n",
    "    return orders"
   ]
  },
  {
   "cell_type": "markdown",
   "metadata": {},
   "source": [
    "## Backtest function\n",
    "\n",
    "At the moment this just goes through all the orders made from the strategy function and simulates how profitiable it would be if the orders were made."
   ]
  },
  {
   "cell_type": "code",
   "execution_count": 28,
   "metadata": {},
   "outputs": [],
   "source": [
    "from collections import defaultdict\n",
    "\n",
    "\n",
    "def backtest_strategy(order_queue):\n",
    "    \n",
    "    portfolio = Portfolio()\n",
    "    side_counts = defaultdict(int)\n",
    "    \n",
    "    for index, order in order_queue.items():\n",
    "\n",
    "        c_pnl = portfolio.cash_wallet - INITIAL_WALLET_CASH\n",
    "        logging.info(f\"Side is {order._position._side}\")\n",
    "        logging.info(f\"Current P/L: {c_pnl}\")\n",
    "\n",
    "        # BUY orders\n",
    "        if order._position._side == Side.BUY:\n",
    "            side_counts[\"BUY\"] += 1\n",
    "            if portfolio.calculate_total_cost_in_gbp(order._position) <= portfolio.cash_wallet:\n",
    "                portfolio.add_position(order._position)  # Deduct cash\n",
    "                logging.info(f\"BUY ORDER FILLED: (ID) {str(order._id).upper()}\")\n",
    "            else: \n",
    "                logging.info(\"INSUFFICIENT CASH FOR BUY ORDER\")\n",
    "        \n",
    "        # SELL orders\n",
    "        elif order._position._side == Side.SELL:\n",
    "            side_counts[\"SELL\"] += 1\n",
    "            # Find the earliest matching BUY position (by size) to sell\n",
    "            matching_position = next(\n",
    "                (pos for pos in portfolio.current_positions.values()\n",
    "                 if pos._side == Side.BUY and pos._size == order._position._size),\n",
    "                None\n",
    "            )\n",
    "            \n",
    "            if matching_position:\n",
    "                sale_earning = order._position._price * (order._position._size * STANDARD_LOT)\n",
    "                buy_cost = matching_position._price * (matching_position._size * STANDARD_LOT)\n",
    "                portfolio.add_to_wallet(sale_earning)\n",
    "                portfolio.sell_position(matching_position)             \n",
    "                portfolio.add_to_wallet(buy_cost)\n",
    "                fee = portfolio.calculate_fees(order._position)\n",
    "                portfolio.deduct_from_wallet(fee)\n",
    "\n",
    "                logging.info(f\"SELL ORDER FILLED: (ID) {str(order._id).upper()}\")\n",
    "            else:\n",
    "                logging.info(\"NO MATCHING BUY POSITION FOUND\")\n",
    "        \n",
    "        # SHORT orders\n",
    "        elif order._position._side == Side.SHORT:\n",
    "            side_counts[\"SHORT\"] += 1\n",
    "            portfolio.add_short_position(order._position)\n",
    "            logging.info(f\"SHORT ORDER FILLED: (ID) {str(order._id).upper()}\")\n",
    "\n",
    "        # COVER orders\n",
    "        elif order._position._side == Side.COVER:\n",
    "            side_counts[\"COVER\"] += 1\n",
    "            matching_position = next(\n",
    "                (pos for pos in portfolio.short_positions.values()\n",
    "                 if pos._size == order._position._size),\n",
    "                None\n",
    "            )\n",
    "            \n",
    "            if matching_position:\n",
    "                portfolio.cover_short_position(order._position)\n",
    "                fee = portfolio.calculate_fees(order._position)\n",
    "                portfolio.deduct_from_wallet(fee)\n",
    "                logging.info(f\"COVER ORDER FILLED: (ID) {str(order._id).upper()}\")\n",
    "            else:\n",
    "                logging.info(\"NO MATCHING SHORT POSITION FOUND\")\n",
    "    \n",
    "    # After all orders processed\n",
    "    print(\"ALL ORDERS HAVE BEEN FILLED.\")\n",
    "    print(\"BOOK CASH LEVEL:\", (\"£{:,.2f}\".format(portfolio.cash_wallet)))\n",
    "\n",
    "    pnl = portfolio.cash_wallet - INITIAL_WALLET_CASH\n",
    "\n",
    "    if pnl < 0:\n",
    "        print(\"TOTAL LOSS:\", (\"£{:,.2f}\".format(abs(pnl))))\n",
    "    else:\n",
    "        print(\"TOTAL PROFIT:\", (\"£{:,.2f}\".format(pnl)))\n",
    "\n",
    "    roi = (pnl / INITIAL_WALLET_CASH) * 100\n",
    "    print(\"RATE ON INVESTMENT: {:_.2f}%\".format(roi))\n",
    "    print(f\"BUY:{side_counts['BUY']}\\nSELL:{side_counts['SELL']}\\nSHORT:{side_counts['SELL']}\\nCOVER:{side_counts['COVER']}\")\n",
    "\n",
    "    return pnl\n"
   ]
  },
  {
   "cell_type": "markdown",
   "metadata": {},
   "source": [
    "## Function to test best params for strategy"
   ]
  },
  {
   "cell_type": "code",
   "execution_count": 9,
   "metadata": {},
   "outputs": [],
   "source": [
    "import itertools\n",
    "\n",
    "\n",
    "\n",
    "def test_strategy(strategy_func,data):\n",
    "    params_for_testing = define_params()\n",
    "    best_pnl = float(\"-inf\")\n",
    "    best_params = None\n",
    "\n",
    "    for rsi_level, bb_mult, macd_period in itertools.product(*params_for_testing):\n",
    "        orders = strategy_func(rsi_level, bb_mult, macd_period, data)\n",
    "        pnl = backtest_strategy(orders)\n",
    "        if pnl > best_pnl:\n",
    "            best_pnl = pnl\n",
    "            best_params = (rsi_level, bb_mult, macd_period)\n",
    "\n",
    "    print(\"Best PnL:\", best_pnl)\n",
    "    roi = (best_pnl / INITIAL_WALLET_CASH) * 100\n",
    "    print(\"RATE ON INVESTMENT: {:_.2f}%\".format(roi))\n",
    "    print(f\"Optimal Parameters:\\nRSI: low - {best_params[0][0]} high - {best_params[0][1]}\\nBollinger Bands STD: {best_params[1]}\\nMACD Time Period: short - {best_params[2][0]} long - {best_params[2][1]}\")\n",
    "\n",
    "def define_params():\n",
    "    rsi_levels = [(low, high) for low in range(35, 37, 1) for high in range(60, 50, -1)]\n",
    "    bollinger_mults = [x / 100 for x in range(100, 150, 10)]\n",
    "    macd_periods = [(12,26)]\n",
    "\n",
    "    num_combinations = len(rsi_levels) * len(bollinger_mults) * len(macd_periods)\n",
    "\n",
    "    print(f\"Number of RSI: {len(rsi_levels)}\\nNumber of bollinger mults: {len(bollinger_mults)}\\nNumber of MACD periods: {len(macd_periods)}\\nNumber of combinations: {num_combinations}\")\n",
    "\n",
    "    return (rsi_levels,bollinger_mults,macd_periods)"
   ]
  },
  {
   "cell_type": "markdown",
   "metadata": {},
   "source": [
    "## WARNING\n",
    "\n",
    "**THIS IS A BRUTEFORCE APPROACH AND SO RESULTS IN A LOT OF COMBINATIONS**\n",
    "\n",
    "You can refine the search space however, I saw this resulted in less trades being made netting 0% ROI. You can also change the ranges of the parameters being tested\n",
    "\n",
    "Run the function below to check the number of combinations and to find what can be reduced"
   ]
  },
  {
   "cell_type": "code",
   "execution_count": null,
   "metadata": {},
   "outputs": [],
   "source": [
    "define_params()"
   ]
  },
  {
   "cell_type": "code",
   "execution_count": null,
   "metadata": {},
   "outputs": [],
   "source": [
    "test_strategy(strategy,prices)"
   ]
  },
  {
   "cell_type": "markdown",
   "metadata": {},
   "source": [
    "## BEST STRATEGY?\n",
    "\n",
    "RSI: low - 35 high - 65 <br>\n",
    "Bollinger Bands STD: 1.5 <br>\n",
    "MACD Time Period: short - 10 long - 24"
   ]
  },
  {
   "cell_type": "code",
   "execution_count": 17,
   "metadata": {},
   "outputs": [
    {
     "name": "stdout",
     "output_type": "stream",
     "text": [
      "ALL ORDERS HAVE BEEN FILLED.\n",
      "BOOK CASH LEVEL: £5,000,000.00\n",
      "TOTAL PROFIT: £0.00\n",
      "RATE ON INVESTMENT: 0.00%\n",
      "BUY:158\n",
      "SELL:1145\n",
      "SHORT:1145\n",
      "COVER:0\n"
     ]
    },
    {
     "data": {
      "text/plain": [
       "0"
      ]
     },
     "execution_count": 17,
     "metadata": {},
     "output_type": "execute_result"
    }
   ],
   "source": [
    "orders = strategy((35,65),1.5,(10,24),prices)\n",
    "backtest_strategy(orders)"
   ]
  },
  {
   "cell_type": "code",
   "execution_count": null,
   "metadata": {},
   "outputs": [],
   "source": [
    "data = setup_indicators((30,65), 1.5, (12,26), prices)\n",
    "data"
   ]
  },
  {
   "cell_type": "markdown",
   "metadata": {},
   "source": [
    "Something to note: at the moment the orders price is just the price the order was put in for so we are assuming each order is fulfilled. Obviously in a real market if we put in an order to sell something for 1,000,000 it wouldn't be fulfilled. The strategy just enters orders using the average of the opening and the close prices, (again not very realistic so requires improvement)"
   ]
  },
  {
   "cell_type": "code",
   "execution_count": 29,
   "metadata": {},
   "outputs": [],
   "source": [
    "def check_to_sell_with_short(orders, row, current_price, date, rsi_level):\n",
    "    if(row[\"Close\"] > row[\"MA20\"]) and row[\"RSI\"] > rsi_level and (row[\"MACD\"] < row[\"Signal\"] and (row[\"%K\"] > 80 and row[\"%D\"] > 80 and row[\"%K\"]<row[\"%D\"])):\n",
    "        sell_position = Position(date,FIXED_LOT_SIZE,current_price,Currency.GBP,Side.SELL)\n",
    "        sell_order = Order(sell_position)\n",
    "        orders[sell_order._id] = sell_order\n",
    "\n",
    "        short_position = Position(date, FIXED_LOT_SIZE, current_price, Currency.GBP, Side.SHORT, is_short=True)\n",
    "        short_order = Order(short_position)\n",
    "        orders[short_order._id] = short_order\n",
    "\n",
    "def check_to_buy_with_cover(orders, tp_prices, sl_prices, row, current_price, date, rsi_level):\n",
    "    if(row[\"Close\"] < row[\"MA20\"]) and row[\"RSI\"] < rsi_level and (row[\"MACD\"] > row[\"Signal\"] and (row[\"%K\"] < 20 and row[\"%D\"] < 20 and row[\"%K\"]<row[\"%D\"])):\n",
    "        buy_position = Position(date,FIXED_LOT_SIZE,current_price,Currency.GBP,Side.BUY)\n",
    "        buy_order = Order(buy_position)\n",
    "        orders[buy_order._id] = buy_order\n",
    "        tp_prices.append(row[\"Upper_band\"])\n",
    "        sl_prices.append(row[\"Lower_band\"])\n",
    "        \n",
    "        cover_position = Position(date, FIXED_LOT_SIZE, current_price, Currency.GBP, Side.COVER)\n",
    "        cover_order = Order(cover_position)\n",
    "        orders[cover_order._id] = cover_order\n",
    "    \n"
   ]
  },
  {
   "cell_type": "code",
   "execution_count": 30,
   "metadata": {},
   "outputs": [],
   "source": [
    "def strategy_with_short(rsi_level, bb_mult, macd_period, data):\n",
    "    \n",
    "    orders = {}\n",
    "    tp_prices=[]\n",
    "    sl_prices=[]\n",
    "    \n",
    "    data = setup_indicators(rsi_level, bb_mult, macd_period, data)\n",
    "    \n",
    "    for index,row in data.iterrows():\n",
    "        current_price = row[\"Open\"]+row[\"Close\"]/2\n",
    "\n",
    "        date = datetime.strptime(str(row[\"Date\"]),\"%Y-%m-%d\").date()\n",
    "        \n",
    "        check_take_profit(FIXED_LOT_SIZE, A_REALLY_BIG_NUMBER, orders, tp_prices, row, current_price, date)\n",
    "        check_stop_loss(FIXED_LOT_SIZE, A_REALLY_SMALL_NUMBER, orders, sl_prices, row, current_price, date)\n",
    "        \n",
    "\n",
    "        \n",
    "        check_to_buy_with_cover(orders, tp_prices, sl_prices, row, current_price, date, rsi_level[0])\n",
    "        check_to_sell_with_short(orders, row, current_price, date, rsi_level[1])\n",
    "\n",
    "    return orders"
   ]
  },
  {
   "cell_type": "code",
   "execution_count": 31,
   "metadata": {},
   "outputs": [
    {
     "name": "stdout",
     "output_type": "stream",
     "text": [
      "ALL ORDERS HAVE BEEN FILLED.\n",
      "BOOK CASH LEVEL: £1,179,577,068.00\n",
      "TOTAL PROFIT: £1,174,577,068.00\n",
      "RATE ON INVESTMENT: 23_491.54%\n",
      "BUY:2\n",
      "SELL:13\n",
      "SHORT:13\n",
      "COVER:2\n"
     ]
    },
    {
     "data": {
      "text/plain": [
       "1174577068.0"
      ]
     },
     "execution_count": 31,
     "metadata": {},
     "output_type": "execute_result"
    }
   ],
   "source": [
    "orders = strategy_with_short((35,65),1.0,(12,26),prices)\n",
    "backtest_strategy(orders)"
   ]
  },
  {
   "cell_type": "code",
   "execution_count": null,
   "metadata": {},
   "outputs": [],
   "source": [
    "orders = strategy_with_short((35,65),1.0,(12,26),prices)\n",
    "backtest_strategy(orders)"
   ]
  },
  {
   "cell_type": "code",
   "execution_count": null,
   "metadata": {},
   "outputs": [],
   "source": [
    "test_strategy(strategy_with_short,prices)"
   ]
  }
 ],
 "metadata": {
  "kernelspec": {
   "display_name": "base",
   "language": "python",
   "name": "python3"
  },
  "language_info": {
   "codemirror_mode": {
    "name": "ipython",
    "version": 3
   },
   "file_extension": ".py",
   "mimetype": "text/x-python",
   "name": "python",
   "nbconvert_exporter": "python",
   "pygments_lexer": "ipython3",
   "version": "3.12.4"
  }
 },
 "nbformat": 4,
 "nbformat_minor": 2
}
