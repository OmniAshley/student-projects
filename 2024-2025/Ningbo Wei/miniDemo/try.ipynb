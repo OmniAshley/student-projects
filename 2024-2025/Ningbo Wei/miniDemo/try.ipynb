{
 "cells": [
  {
   "cell_type": "code",
   "execution_count": 37,
   "metadata": {},
   "outputs": [
    {
     "name": "stdout",
     "output_type": "stream",
     "text": [
      "200\n",
      "--------get main---------\n",
      "Camera - Wikipedia\n",
      "## Contents\n",
      "# Camera\n",
      "## History\n",
      "### 19th century\n",
      "### 20th century\n",
      "### 21st century\n",
      "## Mechanics\n",
      "### Exposure control\n",
      "#### Aperture\n",
      "#### Shutter\n",
      "#### Light meter\n",
      "### Lens\n",
      "### Viewfinder\n",
      "### Film and sensor\n",
      "### Camera accessories\n",
      "#### Flash\n",
      "#### Other accessories\n",
      "## Primary types\n",
      "### Single-lens reflex (SLR) camera\n",
      "### Large-format camera\n",
      "#### Plate camera\n",
      "### Medium-format camera\n",
      "#### Twin-lens reflex camera\n",
      "### Compact cameras\n",
      "#### Instant camera\n",
      "#### Subminiature camera\n",
      "#### Folding camera\n",
      "#### Box camera\n",
      "### Rangefinder camera\n",
      "### Motion picture cameras\n",
      "#### Professional video camera\n",
      "#### Camcorders\n",
      "### Digital camera\n",
      "#### Camera phone\n",
      "## See also\n",
      "## Footnotes\n",
      "## References\n",
      "## Further reading\n",
      "## External links\n"
     ]
    }
   ],
   "source": [
    "import requests\n",
    "from bs4 import BeautifulSoup\n",
    "\n",
    "def fetch_text_from_url(url):\n",
    "    try:\n",
    "        headers = {\n",
    "            \"User-Agent\": (\n",
    "                \"Mozilla/5.0 (Windows NT 10.0; Win64; x64) AppleWebKit/537.36 (KHTML, like Gecko) \"\n",
    "                \"Chrome/117.0.0.0 Safari/537.36\"\n",
    "            )\n",
    "        }\n",
    "        # 发送带有 User-Agent 的 HTTP 请求 -- 如果没有headers，会被判断为爬虫(Web Crawler)而返回503\n",
    "        response = requests.get(url, headers=headers)\n",
    "        print(response.status_code)\n",
    "        response.raise_for_status()  # Raise an HTTPError for bad responses (4xx or 5xx)\n",
    "        soup = BeautifulSoup(response.text, 'html.parser')   # Parse the HTML content using BeautifulSoup\n",
    "    \n",
    "        # Convert to Markdown outline\n",
    "        headings = soup.find_all(['h1', 'h2', 'h3', 'h4', 'h5', 'h6'])   # only need to focusing the first three level\n",
    "        outline = []\n",
    "        for heading in headings:\n",
    "            level = int(heading.name[1])  # Get the heading level (1 to 6)\n",
    "            text = heading.get_text(strip=True)\n",
    "            outline.append(f\"{'#' * level} {text}\")\n",
    "        markdown_outline = \"\\n\".join(outline)\n",
    "\n",
    "        # Try to extract text from the <main> tag\n",
    "        main_content = soup.find('main')\n",
    "        if main_content:\n",
    "            text_content = main_content.get_text(separator='\\n')\n",
    "            print(\"--------get main---------\")\n",
    "        else:\n",
    "            # Fallback to extracting all text if <main> is not present\n",
    "            text_content = soup.get_text(separator='\\n')\n",
    "        clean_text = '\\n'.join(line.strip() for line in text_content.splitlines() if line.strip())\n",
    "\n",
    "        title = soup.title.string if soup.title else \"No title found\"\n",
    "        \n",
    "        return title, clean_text, markdown_outline\n",
    "    except requests.exceptions.RequestException as e:\n",
    "        print(\"----!!!error!!!----\")\n",
    "        return f\"Error fetching URL content: {e}\"\n",
    "\n",
    "url = \"https://en.wikipedia.org/wiki/Camera\"\n",
    "# url = \"https://www.amazon.co.uk/s?k=amazon+camera&crid=2J5OAN2PC30VG&sprefix=amazon+camera%2Caps%2C69&ref=nb_sb_noss_1\"\n",
    "title, clean_text, markdown_outline = fetch_text_from_url(url)  # --------- will store into the data base for history view\n",
    "print(title)  # Print the first 1000 characters for brevity\n",
    "print(markdown_outline)\n",
    "\n",
    "# Write the cleaned text to a file\n",
    "with open('benchMark.txt', 'w', encoding='utf-8') as file:\n",
    "    file.write(clean_text)   # future bench marks  \n"
   ]
  },
  {
   "cell_type": "markdown",
   "metadata": {},
   "source": [
    "### extract text info from a website"
   ]
  },
  {
   "cell_type": "code",
   "execution_count": 38,
   "metadata": {},
   "outputs": [
    {
     "name": "stdout",
     "output_type": "stream",
     "text": [
      "Summary: The Wikipedia article on cameras discusses the history, mechanics, and types of cameras. It highlights the evolution of camera technology and the impact of smartphones on visual content creation and consumption. The article also includes an outline of the content covered.\n",
      "Final Output: Summary: The Wikipedia article on cameras discusses the history, mechanics, and types of cameras. It highlights the evolution of camera technology and the impact of smartphones on visual content creation and consumption. The article also includes an outline of the content covered.\n"
     ]
    }
   ],
   "source": [
    "import openai\n",
    "from openai import AzureOpenAI\n",
    "from config import api_base, api_key\n",
    "\n",
    "api_base = api_base\n",
    "api_key = api_key\n",
    "deployment_name = \"gpt-35-turbo-16k\"  \n",
    "api_version = \"2023-06-01-preview\"\n",
    "\n",
    "client = AzureOpenAI(azure_endpoint=api_base, api_key=api_key, api_version=api_version)\n",
    "\n",
    "prompt = \"Following text is extracted from a website, including its title, main context, and outline. Please help me analysis the following content and return a summery that less than 50 words:\\n ##################extracted text##################\\n\"\n",
    "prompt = prompt + \"#######title#######\\n\" + title[:500]\n",
    "prompt = prompt + \"#######main context#######\\n\" + clean_text[:5000]\n",
    "prompt = prompt + \"#######outline#######\\n\" + markdown_outline[:500]\n",
    "\n",
    "response = client.chat.completions.create(\n",
    "        model=deployment_name, \n",
    "        messages=[\n",
    "            {\"role\": \"system\", \"content\": \"You are a helpful webpage analysis assistant.\"}, \n",
    "            {\"role\": \"user\", \"content\": prompt}\n",
    "        ],\n",
    "        max_tokens=500,\n",
    "        stream=True  # 使用流式返回\n",
    "    )   \n",
    "\n",
    "# 处理流式数据\n",
    "mapped_value = \"\"\n",
    "for chunk in response:\n",
    "    # print(chunk)\n",
    "    if len(chunk.choices) >= 1:\n",
    "        choice = chunk.choices[0]\n",
    "        delta = getattr(choice, \"delta\", {})  # 获取delta属性\n",
    "        # print(delta)\n",
    "        if delta!={}:\n",
    "            content = getattr(delta, \"content\", None)  # 获取content部分\n",
    "            if content != None:\n",
    "                mapped_value += content\n",
    "                mapped_value = mapped_value.strip().replace(\"\\n\", \"\")\n",
    "                print(content, end=\"\", flush=True)   # 显示流式输出\n",
    "\n",
    "#去除回复中的所有\\n以及结尾的空格\n",
    "mapped_value = mapped_value.strip().replace(\"\\n\", \"\")\n",
    "print(\"\\nFinal Output:\", mapped_value)\n",
    "\n"
   ]
  },
  {
   "cell_type": "markdown",
   "metadata": {},
   "source": [
    "## tencent Hunyuan API try"
   ]
  },
  {
   "cell_type": "markdown",
   "metadata": {},
   "source": [
    "### text-to-text"
   ]
  },
  {
   "cell_type": "code",
   "execution_count": 8,
   "metadata": {},
   "outputs": [
    {
     "name": "stdout",
     "output_type": "stream",
     "text": [
      "{\"Created\": 1733268768, \"Usage\": {\"PromptTokens\": 16, \"CompletionTokens\": 9, \"TotalTokens\": 25}, \"Note\": \"以上内容为AI生成，不代表开发者立场，请勿删除或修改本标记\", \"Id\": \"9271a714-0de1-4b2c-8aed-7c7b3e18ff66\", \"Choices\": [{\"FinishReason\": \"stop\", \"Delta\": null, \"Message\": {\"Role\": \"assistant\", \"Content\": \"早上好！有什么需要帮助的吗？\", \"Contents\": null, \"ToolCallId\": null, \"ToolCalls\": null, \"FileIDs\": null}, \"Index\": 0}], \"ErrorMsg\": null, \"ModerationLevel\": null, \"SearchInfo\": null, \"Replaces\": null, \"RequestId\": \"9271a714-0de1-4b2c-8aed-7c7b3e18ff66\"}\n"
     ]
    }
   ],
   "source": [
    "# sk-NUTAvhpexZBv93vaLslKhoDRa5EGIcmbMTgJA2LbaKtUZiYc\n",
    "\n",
    "# need to execute \"pip install tencentcloud-sdk-python\"\n",
    "import json\n",
    "import types\n",
    "from tencentcloud.common import credential\n",
    "from tencentcloud.common.profile.client_profile import ClientProfile\n",
    "from tencentcloud.common.profile.http_profile import HttpProfile\n",
    "from tencentcloud.common.exception.tencent_cloud_sdk_exception import TencentCloudSDKException\n",
    "from tencentcloud.hunyuan.v20230901 import hunyuan_client, models\n",
    "\n",
    "import config\n",
    "import importlib\n",
    "# 强制重新加载模块\n",
    "importlib.reload(config)\n",
    "from config import tencent_secretId, tencent_secretKey\n",
    "\n",
    "# print(type(tencent_secretId), tencent_secretId)\n",
    "# print(type(tencent_secretKey), tencent_secretKey)\n",
    "\n",
    "try:\n",
    "    # 实例化一个认证对象，入参需要传入腾讯云账户 SecretId 和 SecretKey，此处还需注意密钥对的保密\n",
    "    # 代码泄露可能会导致 SecretId 和 SecretKey 泄露，并威胁账号下所有资源的安全性。以下代码示例仅供参考，建议采用更安全的方式来使用密钥，请参见：https://cloud.tencent.com/document/product/1278/85305\n",
    "    # 密钥可前往官网控制台 https://console.cloud.tencent.com/cam/capi 进行获取\n",
    "    cred = credential.Credential(tencent_secretId, tencent_secretKey)\n",
    "    # 实例化一个http选项，可选的，没有特殊需求可以跳过\n",
    "    httpProfile = HttpProfile()\n",
    "    httpProfile.endpoint = \"hunyuan.tencentcloudapi.com\"\n",
    "\n",
    "    # 实例化一个client选项，可选的，没有特殊需求可以跳过\n",
    "    clientProfile = ClientProfile()\n",
    "    clientProfile.httpProfile = httpProfile\n",
    "    # 实例化要请求产品的client对象,clientProfile是可选的\n",
    "    client = hunyuan_client.HunyuanClient(cred, \"\", clientProfile)\n",
    "\n",
    "    # 实例化一个请求对象,每个接口都会对应一个request对象\n",
    "    req = models.ChatCompletionsRequest()\n",
    "    params = {\n",
    "        \"Model\": \"hunyuan-turbo\",\n",
    "        \"Messages\": [\n",
    "            {\n",
    "                \"Role\": \"user\",\n",
    "                \"Content\": \"早上好\"\n",
    "            }\n",
    "        ]\n",
    "    }\n",
    "    req.from_json_string(json.dumps(params))\n",
    "\n",
    "    # 返回的resp是一个ChatCompletionsResponse的实例，与请求对象对应\n",
    "    resp = client.ChatCompletions(req)\n",
    "    # 输出json格式的字符串回包\n",
    "    if isinstance(resp, types.GeneratorType):  # 流式响应\n",
    "        for event in resp:\n",
    "            print(event)\n",
    "    else:  # 非流式响应\n",
    "        print(resp)\n",
    "\n",
    "\n",
    "except TencentCloudSDKException as err:\n",
    "    print(err)"
   ]
  },
  {
   "cell_type": "markdown",
   "metadata": {},
   "source": [
    "### imgae-to-text"
   ]
  },
  {
   "cell_type": "markdown",
   "metadata": {},
   "source": [
    "#### 1. make use of AWS S3 -- for cloud storage"
   ]
  },
  {
   "cell_type": "code",
   "execution_count": 7,
   "metadata": {},
   "outputs": [
    {
     "name": "stdout",
     "output_type": "stream",
     "text": [
      "File uploaded successfully to S3 bucket: ningbobucket/camera.webp\n",
      "File URL: https://ningbobucket.s3.eu-north-1.amazonaws.com/camera.webp\n"
     ]
    }
   ],
   "source": [
    "import boto3\n",
    "from botocore.exceptions import NoCredentialsError, PartialCredentialsError\n",
    "\n",
    "import importlib\n",
    "# 强制重新加载模块\n",
    "importlib.reload(config)\n",
    "import config\n",
    "from config import aws_access_key, aws_secret_key, region_name, bucket_name\n",
    "\n",
    "# S3 配置\n",
    "file_path = \"camera.webp\" # 替换为本地文件路径\n",
    "object_key = \"camera.webp\"    # S3 中的文件名\n",
    "\n",
    "try:\n",
    "    # 创建 S3 客户端\n",
    "    s3_client = boto3.client(\n",
    "        's3',\n",
    "        aws_access_key_id=aws_access_key,\n",
    "        aws_secret_access_key=aws_secret_key,\n",
    "        region_name=region_name\n",
    "    )\n",
    "\n",
    "    # 上传文件\n",
    "    s3_client.upload_file(file_path, bucket_name, object_key)\n",
    "    print(f\"File uploaded successfully to S3 bucket: {bucket_name}/{object_key}\")\n",
    "\n",
    "    # 生成文件的访问 URL\n",
    "    file_url = f\"https://{bucket_name}.s3.{region_name}.amazonaws.com/{object_key}\"\n",
    "    print(f\"File URL: {file_url}\")\n",
    "\n",
    "except FileNotFoundError:\n",
    "    print(\"Error: The file was not found.\")\n",
    "except NoCredentialsError:\n",
    "    print(\"Error: Credentials not available.\")\n",
    "except PartialCredentialsError:\n",
    "    print(\"Error: Incomplete credentials provided.\")\n",
    "except Exception as e:\n",
    "    print(f\"Error: {e}\")\n"
   ]
  },
  {
   "cell_type": "markdown",
   "metadata": {},
   "source": [
    "#### use online model\n",
    "\n",
    "有尝试使用腾讯混元LLM，但是文件上传api还没有开放，无法获得必填参数文件id"
   ]
  },
  {
   "cell_type": "code",
   "execution_count": null,
   "metadata": {},
   "outputs": [
    {
     "ename": "NameError",
     "evalue": "name 'tencent_secretId' is not defined",
     "output_type": "error",
     "traceback": [
      "\u001b[1;31m---------------------------------------------------------------------------\u001b[0m",
      "\u001b[1;31mNameError\u001b[0m                                 Traceback (most recent call last)",
      "Cell \u001b[1;32mIn[4], line 5\u001b[0m\n\u001b[0;32m      2\u001b[0m \u001b[38;5;28;01mfrom\u001b[39;00m \u001b[38;5;21;01mtencentcloud\u001b[39;00m\u001b[38;5;21;01m.\u001b[39;00m\u001b[38;5;21;01miai\u001b[39;00m\u001b[38;5;21;01m.\u001b[39;00m\u001b[38;5;21;01mv20200303\u001b[39;00m \u001b[38;5;28;01mimport\u001b[39;00m iai_client, models\n\u001b[0;32m      4\u001b[0m \u001b[38;5;66;03m# 设置参数\u001b[39;00m\n\u001b[1;32m----> 5\u001b[0m cred \u001b[38;5;241m=\u001b[39m credential\u001b[38;5;241m.\u001b[39mCredential(\u001b[43mtencent_secretId\u001b[49m, tencent_secretKey)\n\u001b[0;32m      6\u001b[0m client \u001b[38;5;241m=\u001b[39m iai_client\u001b[38;5;241m.\u001b[39mIaiClient(cred, \u001b[38;5;124m\"\u001b[39m\u001b[38;5;124map-guangzhou\u001b[39m\u001b[38;5;124m\"\u001b[39m)\n\u001b[0;32m      8\u001b[0m \u001b[38;5;66;03m# 请求图像分析\u001b[39;00m\n",
      "\u001b[1;31mNameError\u001b[0m: name 'tencent_secretId' is not defined"
     ]
    }
   ],
   "source": [
    "from tencentcloud.common import credential\n",
    "from tencentcloud.iai.v20200303 import iai_client, models\n",
    "\n",
    "# 设置参数\n",
    "cred = credential.Credential(tencent_secretId, tencent_secretKey)\n",
    "client = iai_client.IaiClient(cred, \"ap-guangzhou\")\n",
    "\n",
    "# 请求图像分析\n",
    "req = models.DetectFaceRequest()\n",
    "req.Image = \"camera.webp\"\n",
    "resp = client.DetectFace(req)\n",
    "print(resp.to_json_string())\n"
   ]
  },
  {
   "cell_type": "markdown",
   "metadata": {},
   "source": [
    "#### use local model"
   ]
  },
  {
   "cell_type": "code",
   "execution_count": 3,
   "metadata": {},
   "outputs": [
    {
     "name": "stdout",
     "output_type": "stream",
     "text": [
      "a fighter jet flying through the sky\n"
     ]
    }
   ],
   "source": [
    "from transformers import BlipProcessor, BlipForConditionalGeneration\n",
    "from PIL import Image\n",
    "\n",
    "# 加载模型和处理器\n",
    "processor = BlipProcessor.from_pretrained(\"Salesforce/blip-image-captioning-base\")\n",
    "model = BlipForConditionalGeneration.from_pretrained(\"Salesforce/blip-image-captioning-base\")\n",
    "\n",
    "# 加载图像\n",
    "# image = Image.open(\"camera.webp\")\n",
    "image = Image.open(\"j16.jpg\")\n",
    "\n",
    "# 生成描述\n",
    "inputs = processor(image, return_tensors=\"pt\")\n",
    "outputs = model.generate(**inputs)\n",
    "print(processor.decode(outputs[0], skip_special_tokens=True))\n"
   ]
  },
  {
   "cell_type": "code",
   "execution_count": 52,
   "metadata": {},
   "outputs": [
    {
     "name": "stdout",
     "output_type": "stream",
     "text": [
      "2.5.1+cu118\n"
     ]
    }
   ],
   "source": [
    "import torch\n",
    "print(torch.__version__)  # 如果 PyTorch 安装成功，显示版本号"
   ]
  },
  {
   "cell_type": "code",
   "execution_count": null,
   "metadata": {},
   "outputs": [],
   "source": []
  }
 ],
 "metadata": {
  "kernelspec": {
   "display_name": "base",
   "language": "python",
   "name": "python3"
  },
  "language_info": {
   "codemirror_mode": {
    "name": "ipython",
    "version": 3
   },
   "file_extension": ".py",
   "mimetype": "text/x-python",
   "name": "python",
   "nbconvert_exporter": "python",
   "pygments_lexer": "ipython3",
   "version": "3.12.4"
  }
 },
 "nbformat": 4,
 "nbformat_minor": 2
}
