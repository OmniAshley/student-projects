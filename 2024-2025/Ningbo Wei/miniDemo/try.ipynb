{
 "cells": [
  {
   "cell_type": "code",
   "execution_count": 2,
   "metadata": {},
   "outputs": [
    {
     "name": "stdout",
     "output_type": "stream",
     "text": [
      "200\n",
      "--------get main---------\n",
      "Camera - Wikipedia\n",
      "## Contents\n",
      "# Camera\n",
      "## History\n",
      "### 19th century\n",
      "### 20th century\n",
      "### 21st century\n",
      "## Mechanics\n",
      "### Exposure control\n",
      "#### Aperture\n",
      "#### Shutter\n",
      "#### Light meter\n",
      "### Lens\n",
      "### Viewfinder\n",
      "### Film and sensor\n",
      "### Camera accessories\n",
      "#### Flash\n",
      "#### Other accessories\n",
      "## Primary types\n",
      "### Single-lens reflex (SLR) camera\n",
      "### Large-format camera\n",
      "#### Plate camera\n",
      "### Medium-format camera\n",
      "#### Twin-lens reflex camera\n",
      "### Compact cameras\n",
      "#### Instant camera\n",
      "#### Subminiature camera\n",
      "#### Folding camera\n",
      "#### Box camera\n",
      "### Rangefinder camera\n",
      "### Motion picture cameras\n",
      "#### Professional video camera\n",
      "#### Camcorders\n",
      "### Digital camera\n",
      "#### Camera phone\n",
      "## See also\n",
      "## Footnotes\n",
      "## References\n",
      "## Further reading\n",
      "## External links\n"
     ]
    }
   ],
   "source": [
    "import requests\n",
    "from bs4 import BeautifulSoup\n",
    "\n",
    "def fetch_text_from_url(url):\n",
    "    try:\n",
    "        headers = {\n",
    "            \"User-Agent\": (\n",
    "                \"Mozilla/5.0 (Windows NT 10.0; Win64; x64) AppleWebKit/537.36 (KHTML, like Gecko) \"\n",
    "                \"Chrome/117.0.0.0 Safari/537.36\"\n",
    "            )\n",
    "        }\n",
    "        # 发送带有 User-Agent 的 HTTP 请求 -- 如果没有headers，会被判断为爬虫(Web Crawler)而返回503\n",
    "        response = requests.get(url, headers=headers)\n",
    "        print(response.status_code)\n",
    "        response.raise_for_status()  # Raise an HTTPError for bad responses (4xx or 5xx)\n",
    "        soup = BeautifulSoup(response.text, 'html.parser')   # Parse the HTML content using BeautifulSoup\n",
    "    \n",
    "        # Convert to Markdown outline\n",
    "        headings = soup.find_all(['h1', 'h2', 'h3', 'h4', 'h5', 'h6'])   # only need to focusing the first three level\n",
    "        outline = []\n",
    "        for heading in headings:\n",
    "            level = int(heading.name[1])  # Get the heading level (1 to 6)\n",
    "            text = heading.get_text(strip=True)\n",
    "            outline.append(f\"{'#' * level} {text}\")\n",
    "        markdown_outline = \"\\n\".join(outline)\n",
    "\n",
    "        # Try to extract text from the <main> tag\n",
    "        main_content = soup.find('main')\n",
    "        if main_content:\n",
    "            text_content = main_content.get_text(separator='\\n')\n",
    "            print(\"--------get main---------\")\n",
    "        else:\n",
    "            # Fallback to extracting all text if <main> is not present\n",
    "            text_content = soup.get_text(separator='\\n')\n",
    "        clean_text = '\\n'.join(line.strip() for line in text_content.splitlines() if line.strip())\n",
    "\n",
    "        title = soup.title.string if soup.title else \"No title found\"\n",
    "        \n",
    "        return title, clean_text, markdown_outline\n",
    "    except requests.exceptions.RequestException as e:\n",
    "        print(\"----!!!error!!!----\")\n",
    "        return f\"Error fetching URL content: {e}\"\n",
    "\n",
    "url = \"https://en.wikipedia.org/wiki/Camera\"\n",
    "# url = \"https://www.amazon.co.uk/s?k=amazon+camera&crid=2J5OAN2PC30VG&sprefix=amazon+camera%2Caps%2C69&ref=nb_sb_noss_1\"\n",
    "title, clean_text, markdown_outline = fetch_text_from_url(url)  # --------- will store into the data base for history view\n",
    "print(title)  # Print the first 1000 characters for brevity\n",
    "print(markdown_outline)\n",
    "\n",
    "# Write the cleaned text to a file\n",
    "with open('benchMark.txt', 'w', encoding='utf-8') as file:\n",
    "    file.write(clean_text)   # future bench marks  \n"
   ]
  },
  {
   "cell_type": "markdown",
   "metadata": {},
   "source": [
    "### extract text info from a website"
   ]
  },
  {
   "cell_type": "code",
   "execution_count": null,
   "metadata": {},
   "outputs": [
    {
     "name": "stdout",
     "output_type": "stream",
     "text": [
      "The Wikipedia page on Cameras provides a brief overview of cameras as instruments used to capture and store images and videos. It mentions the various types and models of cameras available, their functions and components, as well as their history and advancements in technology. The page also includes an outline of the topics covered on the page.\n",
      "Final Output: The Wikipedia page on Cameras provides a brief overview of cameras as instruments used to capture and store images and videos. It mentions the various types and models of cameras available, their functions and components, as well as their history and advancements in technology. The page also includes an outline of the topics covered on the page.\n"
     ]
    }
   ],
   "source": [
    "import openai\n",
    "from openai import AzureOpenAI\n",
    "from config import api_base, api_key\n",
    "\n",
    "api_base = api_base\n",
    "api_key = api_key\n",
    "deployment_name = \"gpt-35-turbo-16k\"  \n",
    "api_version = \"2023-06-01-preview\"\n",
    "\n",
    "client = AzureOpenAI(azure_endpoint=api_base, api_key=api_key, api_version=api_version)\n",
    "\n",
    "prompt = \"Following text is extracted from a website, including its title, main context, and outline. Please help me analysis the following content and return a summery that less than 50 English words:\\n ##################extracted text##################\\n\"\n",
    "prompt = prompt + \"#######title#######\\n\" + title[:500]\n",
    "prompt = prompt + \"#######main context#######\\n\" + clean_text[:5000]\n",
    "prompt = prompt + \"#######outline#######\\n\" + markdown_outline[:1000]\n",
    "\n",
    "response = client.chat.completions.create(\n",
    "        model=deployment_name, \n",
    "        messages=[\n",
    "            {\"role\": \"system\", \"content\": \"You are a helpful assistant tasked with summarizing the main content of webpages\\n Guidelines :\\n - Aim for a concise summary of about 50 words. \\n - Ignore irrelevant information such as sidebars , payment , ads or membership details. \\n - Focus on the central content of the webpage , providing key details to remind the user of the main themes and help organize the information. \\n - If the page content is sparse , use context to infer and provide a reasoned summary . Briefly describe the webpage if specific details are scant .\"}, \n",
    "            {\"role\": \"user\", \"content\": prompt}\n",
    "        ],\n",
    "        max_tokens=500,\n",
    "        stream=True  # 使用流式返回\n",
    "    )   \n",
    "\n",
    "# 处理流式数据\n",
    "mapped_value = \"\"\n",
    "for chunk in response:\n",
    "    # print(chunk)\n",
    "    if len(chunk.choices) >= 1:\n",
    "        choice = chunk.choices[0]\n",
    "        delta = getattr(choice, \"delta\", {})  # 获取delta属性\n",
    "        # print(delta)\n",
    "        if delta!={}:\n",
    "            content = getattr(delta, \"content\", None)  # 获取content部分\n",
    "            if content != None:\n",
    "                mapped_value += content\n",
    "                mapped_value = mapped_value.strip().replace(\"\\n\", \"\")\n",
    "                print(content, end=\"\", flush=True)   # 显示流式输出\n",
    "\n",
    "#去除回复中的所有\\n以及结尾的空格\n",
    "mapped_value = mapped_value.strip().replace(\"\\n\", \"\")\n",
    "print(\"\\nFinal Output:\", mapped_value)\n",
    "\n"
   ]
  },
  {
   "cell_type": "markdown",
   "metadata": {},
   "source": [
    "## tencent Hunyuan API try"
   ]
  },
  {
   "cell_type": "markdown",
   "metadata": {},
   "source": [
    "### text-to-text"
   ]
  },
  {
   "cell_type": "code",
   "execution_count": null,
   "metadata": {},
   "outputs": [
    {
     "name": "stdout",
     "output_type": "stream",
     "text": [
      "{\"Created\": 1733406890, \"Usage\": {\"PromptTokens\": 1914, \"CompletionTokens\": 44, \"TotalTokens\": 1958}, \"Note\": \"以上内容为AI生成，不代表开发者立场，请勿删除或修改本标记\", \"Id\": \"25765da8-5d39-4043-979a-80d50d8c703d\", \"Choices\": [{\"FinishReason\": \"stop\", \"Delta\": null, \"Message\": {\"Role\": \"assistant\", \"Content\": \"The webpage is about cameras, covering their definition, mechanics, types, and history. It discusses various camera types like SLR, rangefinder, and digital cameras, as well as their evolution through the centuries.\", \"Contents\": null, \"ToolCallId\": null, \"ToolCalls\": null, \"FileIDs\": null}, \"Index\": 0}], \"ErrorMsg\": null, \"ModerationLevel\": null, \"SearchInfo\": null, \"Replaces\": null, \"RequestId\": \"25765da8-5d39-4043-979a-80d50d8c703d\"}\n"
     ]
    }
   ],
   "source": [
    "# the summery is not as good as gpt3.5. Hunyuan dosen't mention 'wikipedia', the reason might be that this webpage is forbidden in PRC.\n",
    "# Hunyuan takes 80% more time than gpt3.5.\n",
    "\n",
    "# need to execute \"pip install tencentcloud-sdk-python\"\n",
    "import json\n",
    "import types\n",
    "from tencentcloud.common import credential\n",
    "from tencentcloud.common.profile.client_profile import ClientProfile\n",
    "from tencentcloud.common.profile.http_profile import HttpProfile\n",
    "from tencentcloud.common.exception.tencent_cloud_sdk_exception import TencentCloudSDKException\n",
    "from tencentcloud.hunyuan.v20230901 import hunyuan_client, models\n",
    "\n",
    "import config\n",
    "import importlib\n",
    "# 强制重新加载模块\n",
    "importlib.reload(config)\n",
    "from config import tencent_secretId, tencent_secretKey\n",
    "\n",
    "# print(type(tencent_secretId), tencent_secretId)\n",
    "# print(type(tencent_secretKey), tencent_secretKey)\n",
    "\n",
    "try:\n",
    "    # 实例化一个认证对象，入参需要传入腾讯云账户 SecretId 和 SecretKey，此处还需注意密钥对的保密\n",
    "    # 代码泄露可能会导致 SecretId 和 SecretKey 泄露，并威胁账号下所有资源的安全性。以下代码示例仅供参考，建议采用更安全的方式来使用密钥，请参见：https://cloud.tencent.com/document/product/1278/85305\n",
    "    # 密钥可前往官网控制台 https://console.cloud.tencent.com/cam/capi 进行获取\n",
    "    cred = credential.Credential(tencent_secretId, tencent_secretKey)\n",
    "    # 实例化一个http选项，可选的，没有特殊需求可以跳过\n",
    "    httpProfile = HttpProfile()\n",
    "    httpProfile.endpoint = \"hunyuan.tencentcloudapi.com\"\n",
    "\n",
    "    # 实例化一个client选项，可选的，没有特殊需求可以跳过\n",
    "    clientProfile = ClientProfile()\n",
    "    clientProfile.httpProfile = httpProfile\n",
    "    # 实例化要请求产品的client对象,clientProfile是可选的\n",
    "    client = hunyuan_client.HunyuanClient(cred, \"\", clientProfile)\n",
    "\n",
    "    # 实例化一个请求对象,每个接口都会对应一个request对象\n",
    "    req = models.ChatCompletionsRequest()\n",
    "    params = {\n",
    "        \"Model\": \"hunyuan-turbo\",\n",
    "        \"Messages\": [\n",
    "            {\n",
    "                \"Role\": \"system\",\n",
    "                \"Content\": \"You are a helpful assistant tasked with summarizing the main content of webpages\\n Guidelines :\\n - Aim for a concise summary of about 50 English words. \\n - Ignore irrelevant information such as sidebars , payment , ads or membership details. \\n - Focus on the central content of the webpage , providing key details to remind the user of the main themes and help organize the information. \\n - If the page content is sparse , use context to infer and provide a reasoned summary . Briefly describe the webpage if specific details are scant .\"\n",
    "            },\n",
    "            {\n",
    "                \"Role\": \"user\",\n",
    "                \"Content\": prompt\n",
    "            }\n",
    "        ]\n",
    "    }\n",
    "    req.from_json_string(json.dumps(params))\n",
    "\n",
    "    # 返回的resp是一个ChatCompletionsResponse的实例，与请求对象对应\n",
    "    resp = client.ChatCompletions(req)\n",
    "    # 输出json格式的字符串回包\n",
    "    if isinstance(resp, types.GeneratorType):  # 流式响应\n",
    "        for event in resp:\n",
    "            print(event)\n",
    "    else:  # 非流式响应\n",
    "        print(resp)\n",
    "\n",
    "\n",
    "except TencentCloudSDKException as err:\n",
    "    print(err)"
   ]
  },
  {
   "cell_type": "markdown",
   "metadata": {},
   "source": [
    "### imgae-to-text"
   ]
  },
  {
   "cell_type": "markdown",
   "metadata": {},
   "source": [
    "#### 1. make use of AWS S3 -- for cloud storage"
   ]
  },
  {
   "cell_type": "code",
   "execution_count": null,
   "metadata": {},
   "outputs": [
    {
     "name": "stdout",
     "output_type": "stream",
     "text": [
      "File uploaded successfully to S3 bucket: ningbobucket/camera.webp\n",
      "File URL: https://ningbobucket.s3.eu-north-1.amazonaws.com/camera.webp\n"
     ]
    }
   ],
   "source": [
    "import boto3\n",
    "from botocore.exceptions import NoCredentialsError, PartialCredentialsError\n",
    "\n",
    "import config\n",
    "import importlib\n",
    "# 强制重新加载模块\n",
    "importlib.reload(config)\n",
    "\n",
    "from config import aws_access_key, aws_secret_key, region_name, bucket_name\n",
    "\n",
    "# S3 配置\n",
    "file_path = \"camera.webp\" # 替换为本地文件路径\n",
    "object_key = \"camera.webp\"    # S3 中的文件名\n",
    "\n",
    "try:\n",
    "    # 创建 S3 客户端\n",
    "    s3_client = boto3.client(\n",
    "        's3',\n",
    "        aws_access_key_id=aws_access_key,\n",
    "        aws_secret_access_key=aws_secret_key,\n",
    "        region_name=region_name\n",
    "    )\n",
    "\n",
    "    # 上传文件\n",
    "    s3_client.upload_file(file_path, bucket_name, object_key)\n",
    "    print(f\"File uploaded successfully to S3 bucket: {bucket_name}/{object_key}\")\n",
    "\n",
    "    # 生成文件的访问 URL\n",
    "    file_url = f\"https://{bucket_name}.s3.{region_name}.amazonaws.com/{object_key}\" # url of the images\n",
    "    print(f\"File URL: {file_url}\")\n",
    "\n",
    "except FileNotFoundError:\n",
    "    print(\"Error: The file was not found.\")\n",
    "except NoCredentialsError:\n",
    "    print(\"Error: Credentials not available.\")\n",
    "except PartialCredentialsError:\n",
    "    print(\"Error: Incomplete credentials provided.\")\n",
    "except Exception as e:\n",
    "    print(f\"Error: {e}\")\n"
   ]
  },
  {
   "cell_type": "markdown",
   "metadata": {},
   "source": [
    "#### 1.1 use base64 to 'upload' image"
   ]
  },
  {
   "cell_type": "code",
   "execution_count": 7,
   "metadata": {},
   "outputs": [
    {
     "name": "stdout",
     "output_type": "stream",
     "text": [
      "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\n"
     ]
    }
   ],
   "source": [
    "import base64\n",
    "\n",
    "# 读取图片并编码为 Base64\n",
    "with open(\"camera.webp\", \"rb\") as image_file:\n",
    "    base64_string = base64.b64encode(image_file.read()).decode('utf-8')\n",
    "\n",
    "# 打印或保存 Base64 编码\n",
    "print(base64_string)"
   ]
  },
  {
   "cell_type": "markdown",
   "metadata": {},
   "source": [
    "#### use online model\n",
    "\n",
    "有尝试使用腾讯混元LLM，但是文件上传api还没有开放，无法获得必填参数文件id"
   ]
  },
  {
   "cell_type": "code",
   "execution_count": null,
   "metadata": {},
   "outputs": [
    {
     "name": "stdout",
     "output_type": "stream",
     "text": [
      "{\"Created\": 1733406392, \"Usage\": {\"PromptTokens\": 581, \"CompletionTokens\": 227, \"TotalTokens\": 808}, \"Note\": \"以上内容为AI生成，不代表开发者立场，请勿删除或修改本标记\", \"Id\": \"579db2eb-5471-49ab-94fd-7e787514c069\", \"Choices\": [{\"FinishReason\": \"stop\", \"Delta\": null, \"Message\": {\"Role\": \"assistant\", \"Content\": \"The image showcases a Canon lens, specifically the RF10-20mm F4 L IS STM model. This lens is part of Canon's high-end line, indicated by the \\\"L\\\" series designation, which denotes professional-quality optics with superior build and performance. The key features and specifications evident from the image include:\\n\\n1. **Lens Range**: 10-20mm, indicating a wide-angle zoom range ideal for landscapes, architecture, and interior photography.\\n2. **Aperture**: F4, which provides a good balance between depth of field and low-light performance.\\n3. **Image Stabilization (IS)**: STM, which stands for Stepping Motor, providing smooth and quiet autofocus, beneficial for video recording as well as still photography.\\n4. **Brand**: Canon, a well-respected manufacturer in the photography and videography industry.\\n\\nThe design elements such as the textured grip and the red ring further emphasize its premium status. Overall, the image effectively communicates the lens's high-quality specifications and its suitability for professional photography and videography.\", \"Contents\": null, \"ToolCallId\": null, \"ToolCalls\": null, \"FileIDs\": null}, \"Index\": 0}], \"ErrorMsg\": null, \"ModerationLevel\": null, \"SearchInfo\": null, \"Replaces\": null, \"RequestId\": \"579db2eb-5471-49ab-94fd-7e787514c069\"}\n"
     ]
    }
   ],
   "source": [
    "\n",
    "import json\n",
    "import types\n",
    "from tencentcloud.common import credential\n",
    "from tencentcloud.common.profile.client_profile import ClientProfile\n",
    "from tencentcloud.common.profile.http_profile import HttpProfile\n",
    "from tencentcloud.common.exception.tencent_cloud_sdk_exception import TencentCloudSDKException\n",
    "from tencentcloud.hunyuan.v20230901 import hunyuan_client, models\n",
    "\n",
    "import config\n",
    "import importlib\n",
    "# 强制重新加载模块\n",
    "importlib.reload(config)\n",
    "from config import tencent_secretId, tencent_secretKey\n",
    "\n",
    "try:\n",
    "    # 实例化一个认证对象，入参需要传入腾讯云账户 SecretId 和 SecretKey，此处还需注意密钥对的保密\n",
    "    # 代码泄露可能会导致 SecretId 和 SecretKey 泄露，并威胁账号下所有资源的安全性。以下代码示例仅供参考，建议采用更安全的方式来使用密钥，请参见：https://cloud.tencent.com/document/product/1278/85305\n",
    "    # 密钥可前往官网控制台 https://console.cloud.tencent.com/cam/capi 进行获取\n",
    "    cred = credential.Credential(tencent_secretId, tencent_secretKey)\n",
    "    # 实例化一个http选项，可选的，没有特殊需求可以跳过\n",
    "    httpProfile = HttpProfile()\n",
    "    httpProfile.endpoint = \"hunyuan.tencentcloudapi.com\"\n",
    "\n",
    "    # 实例化一个client选项，可选的，没有特殊需求可以跳过\n",
    "    clientProfile = ClientProfile()\n",
    "    clientProfile.httpProfile = httpProfile\n",
    "    # 实例化要请求产品的client对象,clientProfile是可选的\n",
    "    client = hunyuan_client.HunyuanClient(cred, \"\", clientProfile)\n",
    "\n",
    "    # 实例化一个请求对象,每个接口都会对应一个request对象\n",
    "    req = models.ChatCompletionsRequest()\n",
    "    params = {\n",
    "        \"Model\": \"hunyuan-vision\",\n",
    "        \"Messages\": [\n",
    "            {\n",
    "                \"Role\": \"user\",\n",
    "                \"Contents\": [\n",
    "                    {\n",
    "                        \"Type\": \"image_url\",\n",
    "                        \"ImageUrl\": {\n",
    "                            # \"Url\": file_url  # \"https://ningbobucket.s3.eu-north-1.amazonaws.com/camera.webp\"   # use the url of an image\n",
    "                            \"Url\": \"data:image/jpeg;base64,\" + base64_string  # use base64 coding, this could be easily get through google chrom extention without downloading the image\n",
    "                        }\n",
    "                    },\n",
    "                    {\n",
    "                        \"Type\": \"text\",\n",
    "                        \"Text\": \"请分析图片里的内容，这个图片主要展示/说明了什么？请用英文回答\"  # it is better to have conversation in chinese, then translate it to English\n",
    "                    }\n",
    "                ]\n",
    "            }\n",
    "        ]\n",
    "    }\n",
    "    req.from_json_string(json.dumps(params))\n",
    "\n",
    "    # 返回的resp是一个ChatCompletionsResponse的实例，与请求对象对应\n",
    "    resp = client.ChatCompletions(req)\n",
    "    # 输出json格式的字符串回包\n",
    "    if isinstance(resp, types.GeneratorType):  # 流式响应\n",
    "        for event in resp:\n",
    "            print(event)\n",
    "    else:  # 非流式响应\n",
    "        print(resp)\n",
    "\n",
    "\n",
    "except TencentCloudSDKException as err:\n",
    "    print(err)"
   ]
  },
  {
   "cell_type": "markdown",
   "metadata": {},
   "source": [
    "#### use local model -- time consuming, and rely on local performace"
   ]
  },
  {
   "cell_type": "code",
   "execution_count": null,
   "metadata": {},
   "outputs": [
    {
     "name": "stdout",
     "output_type": "stream",
     "text": [
      "a fighter jet flying through the sky\n"
     ]
    }
   ],
   "source": [
    "# 只能分析图片，无法像LLM一样有详细的描述\n",
    "\n",
    "from transformers import BlipProcessor, BlipForConditionalGeneration\n",
    "from PIL import Image\n",
    "\n",
    "# 加载模型和处理器\n",
    "processor = BlipProcessor.from_pretrained(\"Salesforce/blip-image-captioning-base\")\n",
    "model = BlipForConditionalGeneration.from_pretrained(\"Salesforce/blip-image-captioning-base\")\n",
    "\n",
    "# 加载图像\n",
    "# image = Image.open(\"camera.webp\")\n",
    "image = Image.open(\"j16.jpg\")\n",
    "\n",
    "# 生成描述\n",
    "inputs = processor(image, return_tensors=\"pt\")\n",
    "outputs = model.generate(**inputs)\n",
    "print(processor.decode(outputs[0], skip_special_tokens=True))\n"
   ]
  },
  {
   "cell_type": "code",
   "execution_count": 52,
   "metadata": {},
   "outputs": [
    {
     "name": "stdout",
     "output_type": "stream",
     "text": [
      "2.5.1+cu118\n"
     ]
    }
   ],
   "source": [
    "import torch\n",
    "print(torch.__version__)  # 如果 PyTorch 安装成功，显示版本号"
   ]
  },
  {
   "cell_type": "code",
   "execution_count": null,
   "metadata": {},
   "outputs": [],
   "source": []
  },
  {
   "cell_type": "markdown",
   "metadata": {},
   "source": [
    "## tab clustering"
   ]
  },
  {
   "cell_type": "code",
   "execution_count": null,
   "metadata": {},
   "outputs": [],
   "source": [
    "import openai\n",
    "from openai import AzureOpenAI\n",
    "from config import api_base, api_key\n",
    "\n",
    "api_base = api_base\n",
    "api_key = api_key\n",
    "deployment_name = \"gpt-35-turbo-16k\"  \n",
    "api_version = \"2023-06-01-preview\"\n",
    "\n",
    "client = AzureOpenAI(azure_endpoint=api_base, api_key=api_key, api_version=api_version)\n",
    "\n",
    "prompt = \"Following texts are the summaries of different tabs. Please help me do the classification if these tabs, \"\n",
    "prompt = \"Following text is extracted from a website, including its title, main context, and outline. Please help me analysis the following content and return a summery that less than 50 English words:\\n ##################extracted text##################\\n\"\n",
    "prompt = prompt + \"#######title#######\\n\" + title[:500]\n",
    "prompt = prompt + \"#######main context#######\\n\" + clean_text[:5000]\n",
    "prompt = prompt + \"#######outline#######\\n\" + markdown_outline[:1000]\n",
    "\n",
    "\"###### user input ########\\n\"\n",
    "\n",
    "\n",
    "\n",
    "response = client.chat.completions.create(\n",
    "        model=deployment_name, \n",
    "        messages=[\n",
    "            {\"role\": \"system\", \"content\": \"You are a helpful assisitant in web tabs clustering. You will be given several summaries of different web tabs. These tabs are usually about traveling. What you need to do is do a classification of these tabs based on city information. Please return the result in Json format. Following is an example\"}, \n",
    "            {\"role\": \"user\", \"content\": prompt}\n",
    "        ],\n",
    "        max_tokens=500,\n",
    "        stream=True  # 使用流式返回\n",
    "    )   \n",
    "\n",
    "# 处理流式数据\n",
    "mapped_value = \"\"\n",
    "for chunk in response:\n",
    "    # print(chunk)\n",
    "    if len(chunk.choices) >= 1:\n",
    "        choice = chunk.choices[0]\n",
    "        delta = getattr(choice, \"delta\", {})  # 获取delta属性\n",
    "        # print(delta)\n",
    "        if delta!={}:\n",
    "            content = getattr(delta, \"content\", None)  # 获取content部分\n",
    "            if content != None:\n",
    "                mapped_value += content\n",
    "                mapped_value = mapped_value.strip().replace(\"\\n\", \"\")\n",
    "                print(content, end=\"\", flush=True)   # 显示流式输出\n",
    "\n",
    "#去除回复中的所有\\n以及结尾的空格\n",
    "mapped_value = mapped_value.strip().replace(\"\\n\", \"\")\n",
    "print(\"\\nFinal Output:\", mapped_value)\n"
   ]
  }
 ],
 "metadata": {
  "kernelspec": {
   "display_name": "base",
   "language": "python",
   "name": "python3"
  },
  "language_info": {
   "codemirror_mode": {
    "name": "ipython",
    "version": 3
   },
   "file_extension": ".py",
   "mimetype": "text/x-python",
   "name": "python",
   "nbconvert_exporter": "python",
   "pygments_lexer": "ipython3",
   "version": "3.12.4"
  }
 },
 "nbformat": 4,
 "nbformat_minor": 2
}
