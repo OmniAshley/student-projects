{
 "cells": [
  {
   "cell_type": "code",
   "execution_count": 1,
   "metadata": {},
   "outputs": [],
   "source": [
    "# This file is used to handle with the origianl collected data(json file), \n",
    "#   including calculate the duration between each action, transform the text of each action to a vector\n",
    "#   so that it can create a new json file, which contains features that need to be visualized\n",
    "import json\n",
    "from sentence_transformers import SentenceTransformer\n",
    "from datetime import datetime\n",
    "import pandas as pd"
   ]
  },
  {
   "cell_type": "code",
   "execution_count": 2,
   "metadata": {},
   "outputs": [],
   "source": [
    "# function used to split the type feature into 2 demensions 0&1\n",
    "def Type_Judge(type, instance):\n",
    "    if(instance == type):\n",
    "        return 1\n",
    "    else:\n",
    "        return 0"
   ]
  },
  {
   "cell_type": "code",
   "execution_count": 3,
   "metadata": {},
   "outputs": [],
   "source": [
    "def transform(filename):\n",
    "    \n",
    "    # Load the json file and the model\n",
    "    with open('example' + filename + '.json') as f:\n",
    "        data = json.load(f)\n",
    "    model = SentenceTransformer('all-MiniLM-L6-v2')\n",
    "\n",
    "    index = 0\n",
    "\n",
    "    actionList = [] \n",
    "    while(index < len(data)):\n",
    "        time = datetime.fromisoformat(data[index]['time'].replace('Z', '+00:00'))\n",
    "        # Create a json object to store an action's information\n",
    "        action = {\n",
    "            \"id\" : index,\n",
    "            \"duration\": 0,\n",
    "            \"time\": data[index]['time'],\n",
    "            \"search\": Type_Judge('search', data[index]['type']),\n",
    "            \"link\": Type_Judge('link', data[index]['type']),\n",
    "            \"revisit\":Type_Judge('revisit', data[index]['type']),\n",
    "            \"highlight\":Type_Judge('highlight', data[index]['type']),\n",
    "            \"filter\":Type_Judge('filter', data[index]['type']),\n",
    "            \"zoomLevel\": data[index]['zoomLevel'],\n",
    "            \"title\": data[index]['text'],\n",
    "            \"text\": model.encode(data[index]['text']).tolist(),\n",
    "        }\n",
    "        # Add action to a list\n",
    "        actionList.append(action)\n",
    "        index = index + 1\n",
    "\n",
    "    # Calculate the duraction between each action\n",
    "    i = 0\n",
    "    while(i < (len(actionList)-1)):\n",
    "        time1 = datetime.fromisoformat(actionList[i+1]['time'].replace('Z', '+00:00'))\n",
    "        time2 = datetime.fromisoformat(actionList[i]['time'].replace('Z', '+00:00'))\n",
    "        actionList[i]['duration'] =  (time1 - time2).seconds\n",
    "        i = i + 1\n",
    "\n",
    "    # Write the action list to a new json file\n",
    "    with open('transformed' + filename + '.json', 'w') as f:\n",
    "        json.dump(actionList, f)\n",
    "\n"
   ]
  },
  {
   "cell_type": "code",
   "execution_count": 4,
   "metadata": {},
   "outputs": [],
   "source": [
    "transform('01')\n",
    "transform('02')\n",
    "transform('03')\n",
    "transform('04')\n",
    "transform('05')\n",
    "transform('06')"
   ]
  },
  {
   "cell_type": "code",
   "execution_count": null,
   "metadata": {},
   "outputs": [],
   "source": []
  }
 ],
 "metadata": {
  "kernelspec": {
   "display_name": "FAIens",
   "language": "python",
   "name": "python3"
  },
  "language_info": {
   "codemirror_mode": {
    "name": "ipython",
    "version": 3
   },
   "file_extension": ".py",
   "mimetype": "text/x-python",
   "name": "python",
   "nbconvert_exporter": "python",
   "pygments_lexer": "ipython3",
   "version": "3.9.5"
  },
  "orig_nbformat": 4
 },
 "nbformat": 4,
 "nbformat_minor": 2
}
