{
 "cells": [
  {
   "cell_type": "code",
   "execution_count": null,
   "metadata": {},
   "outputs": [],
   "source": [
    "import numpy as np\n",
    "import os\n",
    "import pandas as pd\n",
    "import json\n",
    "import random\n",
    "from sklearn.model_selection import train_test_split\n",
    "from sklearn.preprocessing import LabelEncoder, OneHotEncoder\n",
    "from tensorflow import keras\n",
    "from keras.models import Sequential, load_model\n",
    "from keras.layers import LSTM, Dense, Dropout, Bidirectional, SimpleRNN"
   ]
  },
  {
   "cell_type": "code",
   "execution_count": null,
   "metadata": {},
   "outputs": [],
   "source": [
    "dfs = pd.DataFrame()\n",
    "for i in range(1,27):\n",
    "    filename = f\"rawdata/{i}.json\"\n",
    "    if os.path.exists(filename):\n",
    "        with open(filename, \"r\") as f:\n",
    "            data = json.load(f)\n",
    "            df = pd.json_normalize(data.get('data'))\n",
    "\n",
    "    # Add duration by using next time - this time\n",
    "    df['time'] = pd.to_datetime(df['time'])\n",
    "    df['duration'] = df['time'].diff().apply(lambda x: x.total_seconds())\n",
    "    df['duration'] = df['duration'].shift(periods=-1)\n",
    "    df.at[df.index[-1], 'duration'] = random.randint(5,20)\n",
    "    \n",
    "    # Drop unnecessary columns\n",
    "    df = df[['url','type', 'duration']]\n",
    "    df = df.reset_index()\n",
    "    dfs = pd.concat([dfs,df],axis=0, ignore_index=True)"
   ]
  },
  {
   "cell_type": "code",
   "execution_count": null,
   "metadata": {},
   "outputs": [],
   "source": [
    "# Apply lable encoding to type and one-hot encoding to urls\n",
    "le = LabelEncoder()\n",
    "oe = OneHotEncoder()\n",
    "dfs['type'] = le.fit_transform(dfs['type'])\n",
    "\n",
    "onehot = oe.fit_transform(np.array(dfs['url']).reshape(-1,1))\n",
    "onehot_df = pd.DataFrame.sparse.from_spmatrix(onehot)\n",
    "# onehot_df\n",
    "dfs_encoded = pd.concat([dfs, onehot_df], axis=1)\n",
    "dfs_encoded.drop('url', axis=1, inplace=True)"
   ]
  },
  {
   "cell_type": "code",
   "execution_count": null,
   "metadata": {},
   "outputs": [],
   "source": [
    "# Convert data into time sequences, 5 events forms a time step\n",
    "samples = []\n",
    "X_sequences = []\n",
    "y_sequences = []\n",
    "start_index = 0\n",
    "for row_index in range(len(dfs_encoded)-1):\n",
    "        if (dfs_encoded.iloc[row_index+1]['index'] == 0 or row_index+1 == (len(dfs_encoded)-1)):\n",
    "                samples = dfs_encoded.iloc[start_index:row_index+2, 1:].values.tolist()\n",
    "                for i in range(5, len(samples)):\n",
    "                        time_step = samples[i-5:i]\n",
    "                        X_sequences.append(time_step)\n",
    "                        y_sequences.append(samples[i][2:])\n",
    "                        i+=1\n",
    "                start_index = row_index+2\n"
   ]
  },
  {
   "cell_type": "code",
   "execution_count": null,
   "metadata": {},
   "outputs": [],
   "source": [
    "# Train test split\n",
    "X_train,X_test,y_train,y_test=train_test_split(X_sequences,y_sequences,test_size=0.2,random_state=2)"
   ]
  },
  {
   "cell_type": "code",
   "execution_count": null,
   "metadata": {},
   "outputs": [],
   "source": [
    "# RNN\n",
    "model = Sequential()\n",
    "model.add(LSTM(32, return_sequences=True, input_shape=(5,658)))\n",
    "model.add(Dropout(0.2))\n",
    "model.add(LSTM(32, input_shape=(5,658)))\n",
    "model.add(Dropout(0.2))\n",
    "model.add(Dense(656, activation='sigmoid'))\n",
    "\n",
    "# Compile the model\n",
    "model.compile(loss='categorical_crossentropy', optimizer='adam', metrics=['accuracy'])\n",
    "\n",
    "# Train the model\n",
    "model.fit(X_train, y_train, batch_size=5, epochs=200, validation_data=(X_test, y_test))\n",
    "print(\"Training.....\")\n",
    "model.save('model.json')"
   ]
  }
 ],
 "metadata": {
  "kernelspec": {
   "display_name": "styleGan",
   "language": "python",
   "name": "python3"
  },
  "language_info": {
   "codemirror_mode": {
    "name": "ipython",
    "version": 3
   },
   "file_extension": ".py",
   "mimetype": "text/x-python",
   "name": "python",
   "nbconvert_exporter": "python",
   "pygments_lexer": "ipython3",
   "version": "3.8.13"
  },
  "orig_nbformat": 4
 },
 "nbformat": 4,
 "nbformat_minor": 2
}
