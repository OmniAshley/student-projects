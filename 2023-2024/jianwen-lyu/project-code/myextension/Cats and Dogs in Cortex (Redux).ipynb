{
 "cells": [
  {
   "cell_type": "markdown",
   "metadata": {},
   "source": [
    "# Cats and Dogs in Cortex Redux"
   ]
  },
  {
   "cell_type": "markdown",
   "metadata": {},
   "source": [
    "### Introduction\n",
    "\n",
    "This is a tutorial based on the fast.ai Practical Deep Learning course and their [Cats and Dogs Redux](https://github.com/fastai/courses/blob/master/deeplearning1/nbs/dogs_cats_redux.ipynb)\n",
    "\n",
    "This Jupyter Notebook uses the [lein-jupyter plugin](https://github.com/didiercrunch/lein-jupyter) to be able to execute Clojure code in\n",
    "project setting. The first time that you run it you will need to install the kernal with `lein jupyter install-kernel`.\n",
    "After that you can open the notebook in the project directory with `lein jupyter notebook`\n",
    "\n",
    "The Deep Learning library in Clojure that we are using is called [Cortex](https://github.com/thinktopic/cortex). This example\n",
    "borrows heavily from the [Resnet-retrain example](https://github.com/thinktopic/cortex/tree/master/examples/resnet-retrain) in the repo.\n",
    "\n",
    "The goal of this is to take the dataset from the [Kaggle Cats and Dogs Redux Competiton](https://www.kaggle.com/c/dogs-vs-cats-redux-kernels-edition)\n",
    "and train a model. We will then run the model on the Kaggle testing data and submit the results to see how we compare."
   ]
  },
  {
   "cell_type": "markdown",
   "metadata": {},
   "source": [
    "### Setup\n",
    "\n",
    "You will need to do a bit of setup first. Download the `train.zip` and `test.zip` from the [Kaggle Data page](https://www.kaggle.com/c/dogs-vs-cats-redux-kernels-edition/data).\n",
    "\n",
    "Make a `/data` directory in the project directory and put the `train.zip` file there and unzip it.\n",
    "\n",
    "You should now have a directory structure that looks like `data/train` with inside the directory lots of pictures like `cat.156.jpg` and `dog.1.jpg`\n",
    "\n",
    "The next thing that we need to do is to run the `.get-resnet50.sh` in the root of the project. What this is going to do is download a pretrained model that is meant to classify 1000 images types from the [ImageNet competition](http://www.image-net.org/challenges/LSVRC/). This model and its weights have been translated into a Cortex network format `nippy` "
   ]
  },
  {
   "cell_type": "code",
   "execution_count": 16,
   "metadata": {
    "collapsed": false,
    "jupyter": {
     "outputs_hidden": false
    }
   },
   "outputs": [
    {
     "name": "stdout",
     "output_type": "stream",
     "text": [
      "\n"
     ]
    }
   ],
   "source": [
    "(require '[clojure.java.shell :as shell])\n",
    "\n",
    "(-> (shell/sh \"./get-resnet50.sh\") :out println)"
   ]
  },
  {
   "cell_type": "code",
   "execution_count": 17,
   "metadata": {
    "collapsed": false,
    "jupyter": {
     "outputs_hidden": false
    }
   },
   "outputs": [
    {
     "name": "stdout",
     "output_type": "stream",
     "text": [
      "resnet50.nippy\n",
      "\n"
     ]
    }
   ],
   "source": [
    "(-> (shell/sh \"ls\" \"models\") :out println)"
   ]
  },
  {
   "cell_type": "code",
   "execution_count": 19,
   "metadata": {
    "collapsed": false,
    "jupyter": {
     "outputs_hidden": false
    }
   },
   "outputs": [
    {
     "name": "stdout",
     "output_type": "stream",
     "text": [
      "data/train\n",
      "\n"
     ]
    }
   ],
   "source": [
    "(-> (shell/sh \"ls\" \"-d\" \"data/train\") :out println)"
   ]
  },
  {
   "cell_type": "markdown",
   "metadata": {},
   "source": [
    "### Plan of Action\n",
    "\n",
    "1. Get all the cats and dogs pictures in the right directory format for training\n",
    "2. Train the model with all but the last layer in the RESNET model. The last layer we are going to replace with our own layer that will _finetune_ it to classify only cats and dogs\n",
    "3. Run the test data and come up with a spreadsheet of results to submit to Kaggle.\n"
   ]
  },
  {
   "cell_type": "markdown",
   "metadata": {},
   "source": [
    "### Step 1 - Getting the data in the right format\n",
    "\n",
    "To do this, let's require some of the functions in the core namespace of this project. In fact, let's go ahead and create a proper namespace for this worksheet and require in the libs we need."
   ]
  },
  {
   "cell_type": "code",
   "execution_count": 20,
   "metadata": {
    "collapsed": false,
    "jupyter": {
     "outputs_hidden": false
    }
   },
   "outputs": [],
   "source": [
    "(ns cats-dogs-cortex-redux.notebook\n",
    "    (:require [cats-dogs-cortex-redux.core :as cats-dogs]\n",
    "              [clojure.java.shell :as shell]))"
   ]
  },
  {
   "cell_type": "markdown",
   "metadata": {},
   "source": [
    "Now we are trying to get the cats and dogs data that's currently in the `data/train` directory into the form of directories that will look like this:\n",
    "\n",
    "```\n",
    "-data\n",
    "  -cats-dogs-training\n",
    "      -cat\n",
    "          1110.png\n",
    "          ...\n",
    "      -dog\n",
    "          12416.png\n",
    "          ...\n",
    "  -cats-dogs-testing\n",
    "      -cat\n",
    "          11.png\n",
    "          ...\n",
    "      -dog\n",
    "          12.png\n",
    "          ...\n",
    "```\n",
    "\n",
    "One of the main things we want to do is take all the images in the `data/train` directory, shuffle them, and then split them into 85% of the pictures for training and 15% of the pictures for validation testing. We also want to have a directory structure so that only the cat pictures are in the cat directory and dog pictures in the dog directory. Also all of the pictures should be resized to 224x224 to match up with the RESNET model's input, (it's expecting a 224x224 image).\n",
    "\n",
    "There is a `build-image-data` function in the cats-dogs namespace that will do this for us.\n"
   ]
  },
  {
   "cell_type": "code",
   "execution_count": 21,
   "metadata": {
    "collapsed": false,
    "jupyter": {
     "outputs_hidden": false
    }
   },
   "outputs": [
    {
     "name": "stdout",
     "output_type": "stream",
     "text": [
      "Building the image data with a test-training split of  0.85\n",
      "training files  21250 testing files  3750\n"
     ]
    }
   ],
   "source": [
    "(cats-dogs/build-image-data)"
   ]
  },
  {
   "cell_type": "code",
   "execution_count": 24,
   "metadata": {
    "collapsed": false,
    "jupyter": {
     "outputs_hidden": false
    }
   },
   "outputs": [
    {
     "name": "stdout",
     "output_type": "stream",
     "text": [
      "cat\n",
      "dog\n",
      "\n"
     ]
    }
   ],
   "source": [
    "(-> (shell/sh \"ls\" \"data/cats-dogs-training/\") :out println)"
   ]
  },
  {
   "cell_type": "code",
   "execution_count": 26,
   "metadata": {
    "collapsed": false,
    "jupyter": {
     "outputs_hidden": false
    }
   },
   "outputs": [
    {
     "name": "stdout",
     "output_type": "stream",
     "text": [
      "cat\n",
      "dog\n",
      "\n"
     ]
    }
   ],
   "source": [
    "(-> (shell/sh \"ls\" \"data/cats-dogs-testing/\") :out println)"
   ]
  },
  {
   "cell_type": "markdown",
   "metadata": {},
   "source": [
    "### Step 2  - Training the Model\n",
    "\n",
    "The main function our code calls to create the model is this one, `(load-network \"models/resnet50.nippy\" :fc1000 layers-to-add)`\n",
    "\n",
    "Let's take a closer look at it.\n",
    "\n",
    "```clojure\n",
    "(def layers-to-add\n",
    "  [(layers/linear 2 :id :fc2)\n",
    "   (layers/softmax :id :labels)])\n",
    "\n",
    "(defn load-network\n",
    "  [network-file chop-layer top-layers]\n",
    "  (let [network (util/read-nippy-file network-file)\n",
    "        ;; remove last layer(s)\n",
    "        chopped-net (network/dissoc-layers-from-network network chop-layer)\n",
    "        ;; set layers to non-trainable\n",
    "        nodes (get-in chopped-net [:compute-graph :nodes]) ;;=> {:linear-1 {<params>}\n",
    "        new-node-params (mapv (fn [params] (assoc params :non-trainable? true)) (vals nodes))\n",
    "        frozen-nodes (zipmap (keys nodes) new-node-params)\n",
    "        frozen-net (assoc-in chopped-net [:compute-graph :nodes] frozen-nodes)\n",
    "        ;; add top layers\n",
    "        modified-net (network/assoc-layers-to-network frozen-net (flatten top-layers))]\n",
    "    modified-net))\n",
    "```\n",
    "\n",
    "What it is doing is taking in that resnet50 trained models and chopping off the last layer and setting all the layers to non-trainable so that the training won't spend any time retraining those layers and leave them frozen. Then it tacks on the layers that we want to add which are the linear layer of size 2 for our 2 classes (cat and dog of classifcation) and a softmax activation layer that will return the probalities that the image is a cat or dog with the values summing to 1.\n",
    "\n",
    "Let's load up the model and take a look"
   ]
  },
  {
   "cell_type": "code",
   "execution_count": 28,
   "metadata": {
    "collapsed": false,
    "jupyter": {
     "outputs_hidden": false
    }
   },
   "outputs": [
    {
     "data": {
      "text/plain": [
       "#'cats-dogs-cortex-redux.notebook/plain-res50"
      ]
     },
     "execution_count": 28,
     "metadata": {},
     "output_type": "execute_result"
    }
   ],
   "source": [
    "(require '[cortex.util :as util])\n",
    "\n",
    "(def plain-res50 (util/read-nippy-file  \"models/resnet50.nippy\"))"
   ]
  },
  {
   "cell_type": "markdown",
   "metadata": {},
   "source": [
    "The cortex network is just data so we can take a look at the layers"
   ]
  },
  {
   "cell_type": "code",
   "execution_count": 31,
   "metadata": {
    "collapsed": false,
    "jupyter": {
     "outputs_hidden": false
    }
   },
   "outputs": [
    {
     "data": {
      "text/plain": [
       "(:nodes :edges :buffers :streams)"
      ]
     },
     "execution_count": 31,
     "metadata": {},
     "output_type": "execute_result"
    }
   ],
   "source": [
    "(keys (:compute-graph plain-res50))"
   ]
  },
  {
   "cell_type": "code",
   "execution_count": 36,
   "metadata": {
    "collapsed": false,
    "jupyter": {
     "outputs_hidden": false
    }
   },
   "outputs": [
    {
     "name": "stdout",
     "output_type": "stream",
     "text": [
      "(:activation_1\n",
      " :activation_10\n",
      " :activation_10-split\n",
      " :activation_11\n",
      " :activation_12\n",
      " :activation_13\n",
      " :activation_13-split\n",
      " :activation_14\n",
      " :activation_15\n",
      " :activation_16\n",
      " :activation_16-split\n",
      " :activation_17\n",
      " :activation_18\n",
      " :activation_19\n",
      " :activation_19-split\n",
      " :activation_2\n",
      " :activation_20\n",
      " :activation_21\n",
      " :activation_22\n",
      " :activation_22-split\n",
      " :activation_23\n",
      " :activation_24\n",
      " :activation_25\n",
      " :activation_25-split\n",
      " :activation_26\n",
      " :activation_27\n",
      " :activation_28\n",
      " :activation_28-split\n",
      " :activation_29\n",
      " :activation_3\n",
      " :activation_30\n",
      " :activation_31\n",
      " :activation_31-split\n",
      " :activation_32\n",
      " :activation_33\n",
      " :activation_34\n",
      " :activation_34-split\n",
      " :activation_35\n",
      " :activation_36\n",
      " :activation_37\n",
      " :activation_37-split\n",
      " :activation_38\n",
      " :activation_39\n",
      " :activation_4\n",
      " :activation_4-split\n",
      " :activation_40\n",
      " :activation_40-split\n",
      " :activation_41\n",
      " :activation_42\n",
      " :activation_43\n",
      " :activation_43-split\n",
      " :activation_44\n",
      " :activation_45\n",
      " :activation_46\n",
      " :activation_46-split\n",
      " :activation_47\n",
      " :activation_48\n",
      " :activation_49\n",
      " :activation_5\n",
      " :activation_6\n",
      " :activation_7\n",
      " :activation_7-split\n",
      " :activation_8\n",
      " :activation_9\n",
      " :add_1\n",
      " :add_10\n",
      " :add_11\n",
      " :add_12\n",
      " :add_13\n",
      " :add_14\n",
      " :add_15\n",
      " :add_16\n",
      " :add_2\n",
      " :add_3\n",
      " :add_4\n",
      " :add_5\n",
      " :add_6\n",
      " :add_7\n",
      " :add_8\n",
      " :add_9\n",
      " :avg_pool\n",
      " :bn2a_branch1\n",
      " :bn2a_branch2a\n",
      " :bn2a_branch2b\n",
      " :bn2a_branch2c\n",
      " :bn2b_branch2a\n",
      " :bn2b_branch2b\n",
      " :bn2b_branch2c\n",
      " :bn2c_branch2a\n",
      " :bn2c_branch2b\n",
      " :bn2c_branch2c\n",
      " :bn3a_branch1\n",
      " :bn3a_branch2a\n",
      " :bn3a_branch2b\n",
      " :bn3a_branch2c\n",
      " :bn3b_branch2a\n",
      " :bn3b_branch2b\n",
      " :bn3b_branch2c\n",
      " :bn3c_branch2a\n",
      " :bn3c_branch2b\n",
      " :bn3c_branch2c\n",
      " :bn3d_branch2a\n",
      " :bn3d_branch2b\n",
      " :bn3d_branch2c\n",
      " :bn4a_branch1\n",
      " :bn4a_branch2a\n",
      " :bn4a_branch2b\n",
      " :bn4a_branch2c\n",
      " :bn4b_branch2a\n",
      " :bn4b_branch2b\n",
      " :bn4b_branch2c\n",
      " :bn4c_branch2a\n",
      " :bn4c_branch2b\n",
      " :bn4c_branch2c\n",
      " :bn4d_branch2a\n",
      " :bn4d_branch2b\n",
      " :bn4d_branch2c\n",
      " :bn4e_branch2a\n",
      " :bn4e_branch2b\n",
      " :bn4e_branch2c\n",
      " :bn4f_branch2a\n",
      " :bn4f_branch2b\n",
      " :bn4f_branch2c\n",
      " :bn5a_branch1\n",
      " :bn5a_branch2a\n",
      " :bn5a_branch2b\n",
      " :bn5a_branch2c\n",
      " :bn5b_branch2a\n",
      " :bn5b_branch2b\n",
      " :bn5b_branch2c\n",
      " :bn5c_branch2a\n",
      " :bn5c_branch2b\n",
      " :bn5c_branch2c\n",
      " :bn_conv1\n",
      " :conv1\n",
      " :data\n",
      " :fc1000\n",
      " :fc1000-activation\n",
      " :max_pooling2d_1\n",
      " :max_pooling2d_1-split\n",
      " :res2a_branch1\n",
      " :res2a_branch2a\n",
      " :res2a_branch2b\n",
      " :res2a_branch2c\n",
      " :res2b_branch2a\n",
      " :res2b_branch2b\n",
      " :res2b_branch2c\n",
      " :res2c_branch2a\n",
      " :res2c_branch2b\n",
      " :res2c_branch2c\n",
      " :res3a_branch1\n",
      " :res3a_branch2a\n",
      " :res3a_branch2b\n",
      " :res3a_branch2c\n",
      " :res3b_branch2a\n",
      " :res3b_branch2b\n",
      " :res3b_branch2c\n",
      " :res3c_branch2a\n",
      " :res3c_branch2b\n",
      " :res3c_branch2c\n",
      " :res3d_branch2a\n",
      " :res3d_branch2b\n",
      " :res3d_branch2c\n",
      " :res4a_branch1\n",
      " :res4a_branch2a\n",
      " :res4a_branch2b\n",
      " :res4a_branch2c\n",
      " :res4b_branch2a\n",
      " :res4b_branch2b\n",
      " :res4b_branch2c\n",
      " :res4c_branch2a\n",
      " :res4c_branch2b\n",
      " :res4c_branch2c\n",
      " :res4d_branch2a\n",
      " :res4d_branch2b\n",
      " :res4d_branch2c\n",
      " :res4e_branch2a\n",
      " :res4e_branch2b\n",
      " :res4e_branch2c\n",
      " :res4f_branch2a\n",
      " :res4f_branch2b\n",
      " :res4f_branch2c\n",
      " :res5a_branch1\n",
      " :res5a_branch2a\n",
      " :res5a_branch2b\n",
      " :res5a_branch2c\n",
      " :res5b_branch2a\n",
      " :res5b_branch2b\n",
      " :res5b_branch2c\n",
      " :res5c_branch2a\n",
      " :res5c_branch2b\n",
      " :res5c_branch2c\n",
      " :softmax-loss-1)\n"
     ]
    }
   ],
   "source": [
    "(clojure.pprint/pprint (sort (keys (get-in plain-res50 [:compute-graph :nodes]))))"
   ]
  },
  {
   "cell_type": "markdown",
   "metadata": {},
   "source": [
    "There is a function to help print out the network"
   ]
  },
  {
   "cell_type": "code",
   "execution_count": 38,
   "metadata": {
    "collapsed": false,
    "jupyter": {
     "outputs_hidden": false
    }
   },
   "outputs": [],
   "source": [
    "(require '[cortex.nn.network :as network]\n",
    "          '[cortex.nn.traverse :as traverse])"
   ]
  },
  {
   "cell_type": "code",
   "execution_count": 39,
   "metadata": {
    "collapsed": false,
    "jupyter": {
     "outputs_hidden": false
    }
   },
   "outputs": [
    {
     "name": "stdout",
     "output_type": "stream",
     "text": [
      "\n",
      "|                 type |               input |              output |  :bias | :means | :scale | :variances |    :weights |\n",
      "|----------------------+---------------------+---------------------+--------+--------+--------+------------+-------------|\n",
      "|       :convolutional |  3x224x224 - 150528 | 64x112x112 - 802816 |   [64] |        |        |            |    [64 147] |\n",
      "| :batch-normalization | 64x112x112 - 802816 | 64x112x112 - 802816 |   [64] |   [64] |   [64] |       [64] |             |\n",
      "|                :relu | 64x112x112 - 802816 | 64x112x112 - 802816 |        |        |        |            |             |\n",
      "|         :max-pooling | 64x112x112 - 802816 |   64x55x55 - 193600 |        |        |        |            |             |\n",
      "|               :split |   64x55x55 - 193600 |   64x55x55 - 193600 |        |        |        |            |             |\n",
      "|       :convolutional |   64x55x55 - 193600 |   64x55x55 - 193600 |   [64] |        |        |            |     [64 64] |\n",
      "| :batch-normalization |   64x55x55 - 193600 |   64x55x55 - 193600 |   [64] |   [64] |   [64] |       [64] |             |\n",
      "|                :relu |   64x55x55 - 193600 |   64x55x55 - 193600 |        |        |        |            |             |\n",
      "|       :convolutional |   64x55x55 - 193600 |   64x55x55 - 193600 |   [64] |        |        |            |    [64 576] |\n",
      "| :batch-normalization |   64x55x55 - 193600 |   64x55x55 - 193600 |   [64] |   [64] |   [64] |       [64] |             |\n",
      "|                :relu |   64x55x55 - 193600 |   64x55x55 - 193600 |        |        |        |            |             |\n",
      "|       :convolutional |   64x55x55 - 193600 |  256x55x55 - 774400 |  [256] |        |        |            |    [256 64] |\n",
      "| :batch-normalization |  256x55x55 - 774400 |  256x55x55 - 774400 |  [256] |  [256] |  [256] |      [256] |             |\n",
      "|       :convolutional |   64x55x55 - 193600 |  256x55x55 - 774400 |  [256] |        |        |            |    [256 64] |\n",
      "| :batch-normalization |  256x55x55 - 774400 |  256x55x55 - 774400 |  [256] |  [256] |  [256] |      [256] |             |\n",
      "|                :join |  256x55x55 - 774400 |  256x55x55 - 774400 |        |        |        |            |             |\n",
      "|                :relu |  256x55x55 - 774400 |  256x55x55 - 774400 |        |        |        |            |             |\n",
      "|               :split |  256x55x55 - 774400 |  256x55x55 - 774400 |        |        |        |            |             |\n",
      "|       :convolutional |  256x55x55 - 774400 |   64x55x55 - 193600 |   [64] |        |        |            |    [64 256] |\n",
      "| :batch-normalization |   64x55x55 - 193600 |   64x55x55 - 193600 |   [64] |   [64] |   [64] |       [64] |             |\n",
      "|                :relu |   64x55x55 - 193600 |   64x55x55 - 193600 |        |        |        |            |             |\n",
      "|       :convolutional |   64x55x55 - 193600 |   64x55x55 - 193600 |   [64] |        |        |            |    [64 576] |\n",
      "| :batch-normalization |   64x55x55 - 193600 |   64x55x55 - 193600 |   [64] |   [64] |   [64] |       [64] |             |\n",
      "|                :relu |   64x55x55 - 193600 |   64x55x55 - 193600 |        |        |        |            |             |\n",
      "|       :convolutional |   64x55x55 - 193600 |  256x55x55 - 774400 |  [256] |        |        |            |    [256 64] |\n",
      "| :batch-normalization |  256x55x55 - 774400 |  256x55x55 - 774400 |  [256] |  [256] |  [256] |      [256] |             |\n",
      "|                :join |  256x55x55 - 774400 |  256x55x55 - 774400 |        |        |        |            |             |\n",
      "|                :relu |  256x55x55 - 774400 |  256x55x55 - 774400 |        |        |        |            |             |\n",
      "|               :split |  256x55x55 - 774400 |  256x55x55 - 774400 |        |        |        |            |             |\n",
      "|       :convolutional |  256x55x55 - 774400 |   64x55x55 - 193600 |   [64] |        |        |            |    [64 256] |\n",
      "| :batch-normalization |   64x55x55 - 193600 |   64x55x55 - 193600 |   [64] |   [64] |   [64] |       [64] |             |\n",
      "|                :relu |   64x55x55 - 193600 |   64x55x55 - 193600 |        |        |        |            |             |\n",
      "|       :convolutional |   64x55x55 - 193600 |   64x55x55 - 193600 |   [64] |        |        |            |    [64 576] |\n",
      "| :batch-normalization |   64x55x55 - 193600 |   64x55x55 - 193600 |   [64] |   [64] |   [64] |       [64] |             |\n",
      "|                :relu |   64x55x55 - 193600 |   64x55x55 - 193600 |        |        |        |            |             |\n",
      "|       :convolutional |   64x55x55 - 193600 |  256x55x55 - 774400 |  [256] |        |        |            |    [256 64] |\n",
      "| :batch-normalization |  256x55x55 - 774400 |  256x55x55 - 774400 |  [256] |  [256] |  [256] |      [256] |             |\n",
      "|                :join |  256x55x55 - 774400 |  256x55x55 - 774400 |        |        |        |            |             |\n",
      "|                :relu |  256x55x55 - 774400 |  256x55x55 - 774400 |        |        |        |            |             |\n",
      "|               :split |  256x55x55 - 774400 |  256x55x55 - 774400 |        |        |        |            |             |\n",
      "|       :convolutional |  256x55x55 - 774400 |  128x28x28 - 100352 |  [128] |        |        |            |   [128 256] |\n",
      "| :batch-normalization |  128x28x28 - 100352 |  128x28x28 - 100352 |  [128] |  [128] |  [128] |      [128] |             |\n",
      "|                :relu |  128x28x28 - 100352 |  128x28x28 - 100352 |        |        |        |            |             |\n",
      "|       :convolutional |  128x28x28 - 100352 |  128x28x28 - 100352 |  [128] |        |        |            |  [128 1152] |\n",
      "| :batch-normalization |  128x28x28 - 100352 |  128x28x28 - 100352 |  [128] |  [128] |  [128] |      [128] |             |\n",
      "|                :relu |  128x28x28 - 100352 |  128x28x28 - 100352 |        |        |        |            |             |\n",
      "|       :convolutional |  128x28x28 - 100352 |  512x28x28 - 401408 |  [512] |        |        |            |   [512 128] |\n",
      "| :batch-normalization |  512x28x28 - 401408 |  512x28x28 - 401408 |  [512] |  [512] |  [512] |      [512] |             |\n",
      "|       :convolutional |  256x55x55 - 774400 |  512x28x28 - 401408 |  [512] |        |        |            |   [512 256] |\n",
      "| :batch-normalization |  512x28x28 - 401408 |  512x28x28 - 401408 |  [512] |  [512] |  [512] |      [512] |             |\n",
      "|                :join |  512x28x28 - 401408 |  512x28x28 - 401408 |        |        |        |            |             |\n",
      "|                :relu |  512x28x28 - 401408 |  512x28x28 - 401408 |        |        |        |            |             |\n",
      "|               :split |  512x28x28 - 401408 |  512x28x28 - 401408 |        |        |        |            |             |\n",
      "|       :convolutional |  512x28x28 - 401408 |  128x28x28 - 100352 |  [128] |        |        |            |   [128 512] |\n",
      "| :batch-normalization |  128x28x28 - 100352 |  128x28x28 - 100352 |  [128] |  [128] |  [128] |      [128] |             |\n",
      "|                :relu |  128x28x28 - 100352 |  128x28x28 - 100352 |        |        |        |            |             |\n",
      "|       :convolutional |  128x28x28 - 100352 |  128x28x28 - 100352 |  [128] |        |        |            |  [128 1152] |\n",
      "| :batch-normalization |  128x28x28 - 100352 |  128x28x28 - 100352 |  [128] |  [128] |  [128] |      [128] |             |\n",
      "|                :relu |  128x28x28 - 100352 |  128x28x28 - 100352 |        |        |        |            |             |\n",
      "|       :convolutional |  128x28x28 - 100352 |  512x28x28 - 401408 |  [512] |        |        |            |   [512 128] |\n",
      "| :batch-normalization |  512x28x28 - 401408 |  512x28x28 - 401408 |  [512] |  [512] |  [512] |      [512] |             |\n",
      "|                :join |  512x28x28 - 401408 |  512x28x28 - 401408 |        |        |        |            |             |\n",
      "|                :relu |  512x28x28 - 401408 |  512x28x28 - 401408 |        |        |        |            |             |\n",
      "|               :split |  512x28x28 - 401408 |  512x28x28 - 401408 |        |        |        |            |             |\n",
      "|       :convolutional |  512x28x28 - 401408 |  128x28x28 - 100352 |  [128] |        |        |            |   [128 512] |\n",
      "| :batch-normalization |  128x28x28 - 100352 |  128x28x28 - 100352 |  [128] |  [128] |  [128] |      [128] |             |\n",
      "|                :relu |  128x28x28 - 100352 |  128x28x28 - 100352 |        |        |        |            |             |\n",
      "|       :convolutional |  128x28x28 - 100352 |  128x28x28 - 100352 |  [128] |        |        |            |  [128 1152] |\n",
      "| :batch-normalization |  128x28x28 - 100352 |  128x28x28 - 100352 |  [128] |  [128] |  [128] |      [128] |             |\n",
      "|                :relu |  128x28x28 - 100352 |  128x28x28 - 100352 |        |        |        |            |             |\n",
      "|       :convolutional |  128x28x28 - 100352 |  512x28x28 - 401408 |  [512] |        |        |            |   [512 128] |\n",
      "| :batch-normalization |  512x28x28 - 401408 |  512x28x28 - 401408 |  [512] |  [512] |  [512] |      [512] |             |\n",
      "|                :join |  512x28x28 - 401408 |  512x28x28 - 401408 |        |        |        |            |             |\n",
      "|                :relu |  512x28x28 - 401408 |  512x28x28 - 401408 |        |        |        |            |             |\n",
      "|               :split |  512x28x28 - 401408 |  512x28x28 - 401408 |        |        |        |            |             |\n",
      "|       :convolutional |  512x28x28 - 401408 |  128x28x28 - 100352 |  [128] |        |        |            |   [128 512] |\n",
      "| :batch-normalization |  128x28x28 - 100352 |  128x28x28 - 100352 |  [128] |  [128] |  [128] |      [128] |             |\n",
      "|                :relu |  128x28x28 - 100352 |  128x28x28 - 100352 |        |        |        |            |             |\n",
      "|       :convolutional |  128x28x28 - 100352 |  128x28x28 - 100352 |  [128] |        |        |            |  [128 1152] |\n",
      "| :batch-normalization |  128x28x28 - 100352 |  128x28x28 - 100352 |  [128] |  [128] |  [128] |      [128] |             |\n",
      "|                :relu |  128x28x28 - 100352 |  128x28x28 - 100352 |        |        |        |            |             |\n",
      "|       :convolutional |  128x28x28 - 100352 |  512x28x28 - 401408 |  [512] |        |        |            |   [512 128] |\n",
      "| :batch-normalization |  512x28x28 - 401408 |  512x28x28 - 401408 |  [512] |  [512] |  [512] |      [512] |             |\n",
      "|                :join |  512x28x28 - 401408 |  512x28x28 - 401408 |        |        |        |            |             |\n",
      "|                :relu |  512x28x28 - 401408 |  512x28x28 - 401408 |        |        |        |            |             |\n",
      "|               :split |  512x28x28 - 401408 |  512x28x28 - 401408 |        |        |        |            |             |\n",
      "|       :convolutional |  512x28x28 - 401408 |   256x14x14 - 50176 |  [256] |        |        |            |   [256 512] |\n",
      "| :batch-normalization |   256x14x14 - 50176 |   256x14x14 - 50176 |  [256] |  [256] |  [256] |      [256] |             |\n",
      "|                :relu |   256x14x14 - 50176 |   256x14x14 - 50176 |        |        |        |            |             |\n",
      "|       :convolutional |   256x14x14 - 50176 |   256x14x14 - 50176 |  [256] |        |        |            |  [256 2304] |\n",
      "| :batch-normalization |   256x14x14 - 50176 |   256x14x14 - 50176 |  [256] |  [256] |  [256] |      [256] |             |\n",
      "|                :relu |   256x14x14 - 50176 |   256x14x14 - 50176 |        |        |        |            |             |\n",
      "|       :convolutional |   256x14x14 - 50176 | 1024x14x14 - 200704 | [1024] |        |        |            |  [1024 256] |\n",
      "| :batch-normalization | 1024x14x14 - 200704 | 1024x14x14 - 200704 | [1024] | [1024] | [1024] |     [1024] |             |\n",
      "|       :convolutional |  512x28x28 - 401408 | 1024x14x14 - 200704 | [1024] |        |        |            |  [1024 512] |\n",
      "| :batch-normalization | 1024x14x14 - 200704 | 1024x14x14 - 200704 | [1024] | [1024] | [1024] |     [1024] |             |\n",
      "|                :join | 1024x14x14 - 200704 | 1024x14x14 - 200704 |        |        |        |            |             |\n",
      "|                :relu | 1024x14x14 - 200704 | 1024x14x14 - 200704 |        |        |        |            |             |\n",
      "|               :split | 1024x14x14 - 200704 | 1024x14x14 - 200704 |        |        |        |            |             |\n",
      "|       :convolutional | 1024x14x14 - 200704 |   256x14x14 - 50176 |  [256] |        |        |            |  [256 1024] |\n",
      "| :batch-normalization |   256x14x14 - 50176 |   256x14x14 - 50176 |  [256] |  [256] |  [256] |      [256] |             |\n",
      "|                :relu |   256x14x14 - 50176 |   256x14x14 - 50176 |        |        |        |            |             |\n",
      "|       :convolutional |   256x14x14 - 50176 |   256x14x14 - 50176 |  [256] |        |        |            |  [256 2304] |\n",
      "| :batch-normalization |   256x14x14 - 50176 |   256x14x14 - 50176 |  [256] |  [256] |  [256] |      [256] |             |\n",
      "|                :relu |   256x14x14 - 50176 |   256x14x14 - 50176 |        |        |        |            |             |\n",
      "|       :convolutional |   256x14x14 - 50176 | 1024x14x14 - 200704 | [1024] |        |        |            |  [1024 256] |\n",
      "| :batch-normalization | 1024x14x14 - 200704 | 1024x14x14 - 200704 | [1024] | [1024] | [1024] |     [1024] |             |\n",
      "|                :join | 1024x14x14 - 200704 | 1024x14x14 - 200704 |        |        |        |            |             |\n",
      "|                :relu | 1024x14x14 - 200704 | 1024x14x14 - 200704 |        |        |        |            |             |\n",
      "|               :split | 1024x14x14 - 200704 | 1024x14x14 - 200704 |        |        |        |            |             |\n",
      "|       :convolutional | 1024x14x14 - 200704 |   256x14x14 - 50176 |  [256] |        |        |            |  [256 1024] |\n",
      "| :batch-normalization |   256x14x14 - 50176 |   256x14x14 - 50176 |  [256] |  [256] |  [256] |      [256] |             |\n",
      "|                :relu |   256x14x14 - 50176 |   256x14x14 - 50176 |        |        |        |            |             |\n",
      "|       :convolutional |   256x14x14 - 50176 |   256x14x14 - 50176 |  [256] |        |        |            |  [256 2304] |\n",
      "| :batch-normalization |   256x14x14 - 50176 |   256x14x14 - 50176 |  [256] |  [256] |  [256] |      [256] |             |\n",
      "|                :relu |   256x14x14 - 50176 |   256x14x14 - 50176 |        |        |        |            |             |\n",
      "|       :convolutional |   256x14x14 - 50176 | 1024x14x14 - 200704 | [1024] |        |        |            |  [1024 256] |\n",
      "| :batch-normalization | 1024x14x14 - 200704 | 1024x14x14 - 200704 | [1024] | [1024] | [1024] |     [1024] |             |\n",
      "|                :join | 1024x14x14 - 200704 | 1024x14x14 - 200704 |        |        |        |            |             |\n",
      "|                :relu | 1024x14x14 - 200704 | 1024x14x14 - 200704 |        |        |        |            |             |\n",
      "|               :split | 1024x14x14 - 200704 | 1024x14x14 - 200704 |        |        |        |            |             |\n",
      "|       :convolutional | 1024x14x14 - 200704 |   256x14x14 - 50176 |  [256] |        |        |            |  [256 1024] |\n",
      "| :batch-normalization |   256x14x14 - 50176 |   256x14x14 - 50176 |  [256] |  [256] |  [256] |      [256] |             |\n",
      "|                :relu |   256x14x14 - 50176 |   256x14x14 - 50176 |        |        |        |            |             |\n",
      "|       :convolutional |   256x14x14 - 50176 |   256x14x14 - 50176 |  [256] |        |        |            |  [256 2304] |\n",
      "| :batch-normalization |   256x14x14 - 50176 |   256x14x14 - 50176 |  [256] |  [256] |  [256] |      [256] |             |\n",
      "|                :relu |   256x14x14 - 50176 |   256x14x14 - 50176 |        |        |        |            |             |\n",
      "|       :convolutional |   256x14x14 - 50176 | 1024x14x14 - 200704 | [1024] |        |        |            |  [1024 256] |\n",
      "| :batch-normalization | 1024x14x14 - 200704 | 1024x14x14 - 200704 | [1024] | [1024] | [1024] |     [1024] |             |\n",
      "|                :join | 1024x14x14 - 200704 | 1024x14x14 - 200704 |        |        |        |            |             |\n",
      "|                :relu | 1024x14x14 - 200704 | 1024x14x14 - 200704 |        |        |        |            |             |\n",
      "|               :split | 1024x14x14 - 200704 | 1024x14x14 - 200704 |        |        |        |            |             |\n",
      "|       :convolutional | 1024x14x14 - 200704 |   256x14x14 - 50176 |  [256] |        |        |            |  [256 1024] |\n",
      "| :batch-normalization |   256x14x14 - 50176 |   256x14x14 - 50176 |  [256] |  [256] |  [256] |      [256] |             |\n",
      "|                :relu |   256x14x14 - 50176 |   256x14x14 - 50176 |        |        |        |            |             |\n",
      "|       :convolutional |   256x14x14 - 50176 |   256x14x14 - 50176 |  [256] |        |        |            |  [256 2304] |\n",
      "| :batch-normalization |   256x14x14 - 50176 |   256x14x14 - 50176 |  [256] |  [256] |  [256] |      [256] |             |\n",
      "|                :relu |   256x14x14 - 50176 |   256x14x14 - 50176 |        |        |        |            |             |\n",
      "|       :convolutional |   256x14x14 - 50176 | 1024x14x14 - 200704 | [1024] |        |        |            |  [1024 256] |\n",
      "| :batch-normalization | 1024x14x14 - 200704 | 1024x14x14 - 200704 | [1024] | [1024] | [1024] |     [1024] |             |\n",
      "|                :join | 1024x14x14 - 200704 | 1024x14x14 - 200704 |        |        |        |            |             |\n",
      "|                :relu | 1024x14x14 - 200704 | 1024x14x14 - 200704 |        |        |        |            |             |\n",
      "|               :split | 1024x14x14 - 200704 | 1024x14x14 - 200704 |        |        |        |            |             |\n",
      "|       :convolutional | 1024x14x14 - 200704 |   256x14x14 - 50176 |  [256] |        |        |            |  [256 1024] |\n",
      "| :batch-normalization |   256x14x14 - 50176 |   256x14x14 - 50176 |  [256] |  [256] |  [256] |      [256] |             |\n",
      "|                :relu |   256x14x14 - 50176 |   256x14x14 - 50176 |        |        |        |            |             |\n",
      "|       :convolutional |   256x14x14 - 50176 |   256x14x14 - 50176 |  [256] |        |        |            |  [256 2304] |\n",
      "| :batch-normalization |   256x14x14 - 50176 |   256x14x14 - 50176 |  [256] |  [256] |  [256] |      [256] |             |\n",
      "|                :relu |   256x14x14 - 50176 |   256x14x14 - 50176 |        |        |        |            |             |\n",
      "|       :convolutional |   256x14x14 - 50176 | 1024x14x14 - 200704 | [1024] |        |        |            |  [1024 256] |\n",
      "| :batch-normalization | 1024x14x14 - 200704 | 1024x14x14 - 200704 | [1024] | [1024] | [1024] |     [1024] |             |\n",
      "|                :join | 1024x14x14 - 200704 | 1024x14x14 - 200704 |        |        |        |            |             |\n",
      "|                :relu | 1024x14x14 - 200704 | 1024x14x14 - 200704 |        |        |        |            |             |\n",
      "|               :split | 1024x14x14 - 200704 | 1024x14x14 - 200704 |        |        |        |            |             |\n",
      "|       :convolutional | 1024x14x14 - 200704 |     512x7x7 - 25088 |  [512] |        |        |            |  [512 1024] |\n",
      "| :batch-normalization |     512x7x7 - 25088 |     512x7x7 - 25088 |  [512] |  [512] |  [512] |      [512] |             |\n",
      "|                :relu |     512x7x7 - 25088 |     512x7x7 - 25088 |        |        |        |            |             |\n",
      "|       :convolutional |     512x7x7 - 25088 |     512x7x7 - 25088 |  [512] |        |        |            |  [512 4608] |\n",
      "| :batch-normalization |     512x7x7 - 25088 |     512x7x7 - 25088 |  [512] |  [512] |  [512] |      [512] |             |\n",
      "|                :relu |     512x7x7 - 25088 |     512x7x7 - 25088 |        |        |        |            |             |\n",
      "|       :convolutional |     512x7x7 - 25088 |   2048x7x7 - 100352 | [2048] |        |        |            |  [2048 512] |\n",
      "| :batch-normalization |   2048x7x7 - 100352 |   2048x7x7 - 100352 | [2048] | [2048] | [2048] |     [2048] |             |\n",
      "|       :convolutional | 1024x14x14 - 200704 |   2048x7x7 - 100352 | [2048] |        |        |            | [2048 1024] |\n",
      "| :batch-normalization |   2048x7x7 - 100352 |   2048x7x7 - 100352 | [2048] | [2048] | [2048] |     [2048] |             |\n",
      "|                :join |   2048x7x7 - 100352 |   2048x7x7 - 100352 |        |        |        |            |             |\n",
      "|                :relu |   2048x7x7 - 100352 |   2048x7x7 - 100352 |        |        |        |            |             |\n",
      "|               :split |   2048x7x7 - 100352 |   2048x7x7 - 100352 |        |        |        |            |             |\n",
      "|       :convolutional |   2048x7x7 - 100352 |     512x7x7 - 25088 |  [512] |        |        |            |  [512 2048] |\n",
      "| :batch-normalization |     512x7x7 - 25088 |     512x7x7 - 25088 |  [512] |  [512] |  [512] |      [512] |             |\n",
      "|                :relu |     512x7x7 - 25088 |     512x7x7 - 25088 |        |        |        |            |             |\n",
      "|       :convolutional |     512x7x7 - 25088 |     512x7x7 - 25088 |  [512] |        |        |            |  [512 4608] |\n",
      "| :batch-normalization |     512x7x7 - 25088 |     512x7x7 - 25088 |  [512] |  [512] |  [512] |      [512] |             |\n",
      "|                :relu |     512x7x7 - 25088 |     512x7x7 - 25088 |        |        |        |            |             |\n",
      "|       :convolutional |     512x7x7 - 25088 |   2048x7x7 - 100352 | [2048] |        |        |            |  [2048 512] |\n",
      "| :batch-normalization |   2048x7x7 - 100352 |   2048x7x7 - 100352 | [2048] | [2048] | [2048] |     [2048] |             |\n",
      "|                :join |   2048x7x7 - 100352 |   2048x7x7 - 100352 |        |        |        |            |             |\n",
      "|                :relu |   2048x7x7 - 100352 |   2048x7x7 - 100352 |        |        |        |            |             |\n",
      "|               :split |   2048x7x7 - 100352 |   2048x7x7 - 100352 |        |        |        |            |             |\n",
      "|       :convolutional |   2048x7x7 - 100352 |     512x7x7 - 25088 |  [512] |        |        |            |  [512 2048] |\n",
      "| :batch-normalization |     512x7x7 - 25088 |     512x7x7 - 25088 |  [512] |  [512] |  [512] |      [512] |             |\n",
      "|                :relu |     512x7x7 - 25088 |     512x7x7 - 25088 |        |        |        |            |             |\n",
      "|       :convolutional |     512x7x7 - 25088 |     512x7x7 - 25088 |  [512] |        |        |            |  [512 4608] |\n",
      "| :batch-normalization |     512x7x7 - 25088 |     512x7x7 - 25088 |  [512] |  [512] |  [512] |      [512] |             |\n",
      "|                :relu |     512x7x7 - 25088 |     512x7x7 - 25088 |        |        |        |            |             |\n",
      "|       :convolutional |     512x7x7 - 25088 |   2048x7x7 - 100352 | [2048] |        |        |            |  [2048 512] |\n",
      "| :batch-normalization |   2048x7x7 - 100352 |   2048x7x7 - 100352 | [2048] | [2048] | [2048] |     [2048] |             |\n",
      "|                :join |   2048x7x7 - 100352 |   2048x7x7 - 100352 |        |        |        |            |             |\n",
      "|                :relu |   2048x7x7 - 100352 |   2048x7x7 - 100352 |        |        |        |            |             |\n",
      "|         :max-pooling |   2048x7x7 - 100352 |     2048x1x1 - 2048 |        |        |        |            |             |\n",
      "|              :linear |     2048x1x1 - 2048 |     1x1x1000 - 1000 | [1000] |        |        |            | [1000 2048] |\n",
      "|             :softmax |     1x1x1000 - 1000 |     1x1x1000 - 1000 |        |        |        |            |             |\n",
      "Parameter count: 25636712\n"
     ]
    }
   ],
   "source": [
    "(network/print-layer-summary plain-res50 (traverse/training-traversal plain-res50))"
   ]
  },
  {
   "cell_type": "markdown",
   "metadata": {},
   "source": [
    "Let's see what it looks like after we modify the network:"
   ]
  },
  {
   "cell_type": "code",
   "execution_count": 40,
   "metadata": {
    "collapsed": false,
    "jupyter": {
     "outputs_hidden": false
    }
   },
   "outputs": [
    {
     "data": {
      "text/plain": [
       "#'cats-dogs-cortex-redux.notebook/cats-dogs-network"
      ]
     },
     "execution_count": 40,
     "metadata": {},
     "output_type": "execute_result"
    }
   ],
   "source": [
    "(def cats-dogs-network (cats-dogs/load-network \"models/resnet50.nippy\" :fc1000 cats-dogs/layers-to-add))"
   ]
  },
  {
   "cell_type": "code",
   "execution_count": 41,
   "metadata": {
    "collapsed": false,
    "jupyter": {
     "outputs_hidden": false
    }
   },
   "outputs": [
    {
     "name": "stdout",
     "output_type": "stream",
     "text": [
      "\n",
      "|                 type |               input |              output |  :bias | :means | :scale | :variances |    :weights |\n",
      "|----------------------+---------------------+---------------------+--------+--------+--------+------------+-------------|\n",
      "|       :convolutional |  3x224x224 - 150528 | 64x112x112 - 802816 |   [64] |        |        |            |    [64 147] |\n",
      "| :batch-normalization | 64x112x112 - 802816 | 64x112x112 - 802816 |   [64] |   [64] |   [64] |       [64] |             |\n",
      "|                :relu | 64x112x112 - 802816 | 64x112x112 - 802816 |        |        |        |            |             |\n",
      "|         :max-pooling | 64x112x112 - 802816 |   64x55x55 - 193600 |        |        |        |            |             |\n",
      "|       :convolutional |   64x55x55 - 193600 |   64x55x55 - 193600 |   [64] |        |        |            |     [64 64] |\n",
      "| :batch-normalization |   64x55x55 - 193600 |   64x55x55 - 193600 |   [64] |   [64] |   [64] |       [64] |             |\n",
      "|                :relu |   64x55x55 - 193600 |   64x55x55 - 193600 |        |        |        |            |             |\n",
      "|       :convolutional |   64x55x55 - 193600 |   64x55x55 - 193600 |   [64] |        |        |            |    [64 576] |\n",
      "| :batch-normalization |   64x55x55 - 193600 |   64x55x55 - 193600 |   [64] |   [64] |   [64] |       [64] |             |\n",
      "|                :relu |   64x55x55 - 193600 |   64x55x55 - 193600 |        |        |        |            |             |\n",
      "|       :convolutional |   64x55x55 - 193600 |  256x55x55 - 774400 |  [256] |        |        |            |    [256 64] |\n",
      "| :batch-normalization |  256x55x55 - 774400 |  256x55x55 - 774400 |  [256] |  [256] |  [256] |      [256] |             |\n",
      "|       :convolutional |   64x55x55 - 193600 |  256x55x55 - 774400 |  [256] |        |        |            |    [256 64] |\n",
      "| :batch-normalization |  256x55x55 - 774400 |  256x55x55 - 774400 |  [256] |  [256] |  [256] |      [256] |             |\n",
      "|                :join |  256x55x55 - 774400 |  256x55x55 - 774400 |        |        |        |            |             |\n",
      "|                :relu |  256x55x55 - 774400 |  256x55x55 - 774400 |        |        |        |            |             |\n",
      "|       :convolutional |  256x55x55 - 774400 |   64x55x55 - 193600 |   [64] |        |        |            |    [64 256] |\n",
      "| :batch-normalization |   64x55x55 - 193600 |   64x55x55 - 193600 |   [64] |   [64] |   [64] |       [64] |             |\n",
      "|                :relu |   64x55x55 - 193600 |   64x55x55 - 193600 |        |        |        |            |             |\n",
      "|       :convolutional |   64x55x55 - 193600 |   64x55x55 - 193600 |   [64] |        |        |            |    [64 576] |\n",
      "| :batch-normalization |   64x55x55 - 193600 |   64x55x55 - 193600 |   [64] |   [64] |   [64] |       [64] |             |\n",
      "|                :relu |   64x55x55 - 193600 |   64x55x55 - 193600 |        |        |        |            |             |\n",
      "|       :convolutional |   64x55x55 - 193600 |  256x55x55 - 774400 |  [256] |        |        |            |    [256 64] |\n",
      "| :batch-normalization |  256x55x55 - 774400 |  256x55x55 - 774400 |  [256] |  [256] |  [256] |      [256] |             |\n",
      "|                :join |  256x55x55 - 774400 |  256x55x55 - 774400 |        |        |        |            |             |\n",
      "|                :relu |  256x55x55 - 774400 |  256x55x55 - 774400 |        |        |        |            |             |\n",
      "|       :convolutional |  256x55x55 - 774400 |   64x55x55 - 193600 |   [64] |        |        |            |    [64 256] |\n",
      "| :batch-normalization |   64x55x55 - 193600 |   64x55x55 - 193600 |   [64] |   [64] |   [64] |       [64] |             |\n",
      "|                :relu |   64x55x55 - 193600 |   64x55x55 - 193600 |        |        |        |            |             |\n",
      "|       :convolutional |   64x55x55 - 193600 |   64x55x55 - 193600 |   [64] |        |        |            |    [64 576] |\n",
      "| :batch-normalization |   64x55x55 - 193600 |   64x55x55 - 193600 |   [64] |   [64] |   [64] |       [64] |             |\n",
      "|                :relu |   64x55x55 - 193600 |   64x55x55 - 193600 |        |        |        |            |             |\n",
      "|       :convolutional |   64x55x55 - 193600 |  256x55x55 - 774400 |  [256] |        |        |            |    [256 64] |\n",
      "| :batch-normalization |  256x55x55 - 774400 |  256x55x55 - 774400 |  [256] |  [256] |  [256] |      [256] |             |\n",
      "|                :join |  256x55x55 - 774400 |  256x55x55 - 774400 |        |        |        |            |             |\n",
      "|                :relu |  256x55x55 - 774400 |  256x55x55 - 774400 |        |        |        |            |             |\n",
      "|       :convolutional |  256x55x55 - 774400 |  128x28x28 - 100352 |  [128] |        |        |            |   [128 256] |\n",
      "| :batch-normalization |  128x28x28 - 100352 |  128x28x28 - 100352 |  [128] |  [128] |  [128] |      [128] |             |\n",
      "|                :relu |  128x28x28 - 100352 |  128x28x28 - 100352 |        |        |        |            |             |\n",
      "|       :convolutional |  128x28x28 - 100352 |  128x28x28 - 100352 |  [128] |        |        |            |  [128 1152] |\n",
      "| :batch-normalization |  128x28x28 - 100352 |  128x28x28 - 100352 |  [128] |  [128] |  [128] |      [128] |             |\n",
      "|                :relu |  128x28x28 - 100352 |  128x28x28 - 100352 |        |        |        |            |             |\n",
      "|       :convolutional |  128x28x28 - 100352 |  512x28x28 - 401408 |  [512] |        |        |            |   [512 128] |\n",
      "| :batch-normalization |  512x28x28 - 401408 |  512x28x28 - 401408 |  [512] |  [512] |  [512] |      [512] |             |\n",
      "|       :convolutional |  256x55x55 - 774400 |  512x28x28 - 401408 |  [512] |        |        |            |   [512 256] |\n",
      "| :batch-normalization |  512x28x28 - 401408 |  512x28x28 - 401408 |  [512] |  [512] |  [512] |      [512] |             |\n",
      "|                :join |  512x28x28 - 401408 |  512x28x28 - 401408 |        |        |        |            |             |\n",
      "|                :relu |  512x28x28 - 401408 |  512x28x28 - 401408 |        |        |        |            |             |\n",
      "|       :convolutional |  512x28x28 - 401408 |  128x28x28 - 100352 |  [128] |        |        |            |   [128 512] |\n",
      "| :batch-normalization |  128x28x28 - 100352 |  128x28x28 - 100352 |  [128] |  [128] |  [128] |      [128] |             |\n",
      "|                :relu |  128x28x28 - 100352 |  128x28x28 - 100352 |        |        |        |            |             |\n",
      "|       :convolutional |  128x28x28 - 100352 |  128x28x28 - 100352 |  [128] |        |        |            |  [128 1152] |\n",
      "| :batch-normalization |  128x28x28 - 100352 |  128x28x28 - 100352 |  [128] |  [128] |  [128] |      [128] |             |\n",
      "|                :relu |  128x28x28 - 100352 |  128x28x28 - 100352 |        |        |        |            |             |\n",
      "|       :convolutional |  128x28x28 - 100352 |  512x28x28 - 401408 |  [512] |        |        |            |   [512 128] |\n",
      "| :batch-normalization |  512x28x28 - 401408 |  512x28x28 - 401408 |  [512] |  [512] |  [512] |      [512] |             |\n",
      "|                :join |  512x28x28 - 401408 |  512x28x28 - 401408 |        |        |        |            |             |\n",
      "|                :relu |  512x28x28 - 401408 |  512x28x28 - 401408 |        |        |        |            |             |\n",
      "|       :convolutional |  512x28x28 - 401408 |  128x28x28 - 100352 |  [128] |        |        |            |   [128 512] |\n",
      "| :batch-normalization |  128x28x28 - 100352 |  128x28x28 - 100352 |  [128] |  [128] |  [128] |      [128] |             |\n",
      "|                :relu |  128x28x28 - 100352 |  128x28x28 - 100352 |        |        |        |            |             |\n",
      "|       :convolutional |  128x28x28 - 100352 |  128x28x28 - 100352 |  [128] |        |        |            |  [128 1152] |\n",
      "| :batch-normalization |  128x28x28 - 100352 |  128x28x28 - 100352 |  [128] |  [128] |  [128] |      [128] |             |\n",
      "|                :relu |  128x28x28 - 100352 |  128x28x28 - 100352 |        |        |        |            |             |\n",
      "|       :convolutional |  128x28x28 - 100352 |  512x28x28 - 401408 |  [512] |        |        |            |   [512 128] |\n",
      "| :batch-normalization |  512x28x28 - 401408 |  512x28x28 - 401408 |  [512] |  [512] |  [512] |      [512] |             |\n",
      "|                :join |  512x28x28 - 401408 |  512x28x28 - 401408 |        |        |        |            |             |\n",
      "|                :relu |  512x28x28 - 401408 |  512x28x28 - 401408 |        |        |        |            |             |\n",
      "|       :convolutional |  512x28x28 - 401408 |  128x28x28 - 100352 |  [128] |        |        |            |   [128 512] |\n",
      "| :batch-normalization |  128x28x28 - 100352 |  128x28x28 - 100352 |  [128] |  [128] |  [128] |      [128] |             |\n",
      "|                :relu |  128x28x28 - 100352 |  128x28x28 - 100352 |        |        |        |            |             |\n",
      "|       :convolutional |  128x28x28 - 100352 |  128x28x28 - 100352 |  [128] |        |        |            |  [128 1152] |\n",
      "| :batch-normalization |  128x28x28 - 100352 |  128x28x28 - 100352 |  [128] |  [128] |  [128] |      [128] |             |\n",
      "|                :relu |  128x28x28 - 100352 |  128x28x28 - 100352 |        |        |        |            |             |\n",
      "|       :convolutional |  128x28x28 - 100352 |  512x28x28 - 401408 |  [512] |        |        |            |   [512 128] |\n",
      "| :batch-normalization |  512x28x28 - 401408 |  512x28x28 - 401408 |  [512] |  [512] |  [512] |      [512] |             |\n",
      "|                :join |  512x28x28 - 401408 |  512x28x28 - 401408 |        |        |        |            |             |\n",
      "|                :relu |  512x28x28 - 401408 |  512x28x28 - 401408 |        |        |        |            |             |\n",
      "|       :convolutional |  512x28x28 - 401408 |   256x14x14 - 50176 |  [256] |        |        |            |   [256 512] |\n",
      "| :batch-normalization |   256x14x14 - 50176 |   256x14x14 - 50176 |  [256] |  [256] |  [256] |      [256] |             |\n",
      "|                :relu |   256x14x14 - 50176 |   256x14x14 - 50176 |        |        |        |            |             |\n",
      "|       :convolutional |   256x14x14 - 50176 |   256x14x14 - 50176 |  [256] |        |        |            |  [256 2304] |\n",
      "| :batch-normalization |   256x14x14 - 50176 |   256x14x14 - 50176 |  [256] |  [256] |  [256] |      [256] |             |\n",
      "|                :relu |   256x14x14 - 50176 |   256x14x14 - 50176 |        |        |        |            |             |\n",
      "|       :convolutional |   256x14x14 - 50176 | 1024x14x14 - 200704 | [1024] |        |        |            |  [1024 256] |\n",
      "| :batch-normalization | 1024x14x14 - 200704 | 1024x14x14 - 200704 | [1024] | [1024] | [1024] |     [1024] |             |\n",
      "|       :convolutional |  512x28x28 - 401408 | 1024x14x14 - 200704 | [1024] |        |        |            |  [1024 512] |\n",
      "| :batch-normalization | 1024x14x14 - 200704 | 1024x14x14 - 200704 | [1024] | [1024] | [1024] |     [1024] |             |\n",
      "|                :join | 1024x14x14 - 200704 | 1024x14x14 - 200704 |        |        |        |            |             |\n",
      "|                :relu | 1024x14x14 - 200704 | 1024x14x14 - 200704 |        |        |        |            |             |\n",
      "|       :convolutional | 1024x14x14 - 200704 |   256x14x14 - 50176 |  [256] |        |        |            |  [256 1024] |\n",
      "| :batch-normalization |   256x14x14 - 50176 |   256x14x14 - 50176 |  [256] |  [256] |  [256] |      [256] |             |\n",
      "|                :relu |   256x14x14 - 50176 |   256x14x14 - 50176 |        |        |        |            |             |\n",
      "|       :convolutional |   256x14x14 - 50176 |   256x14x14 - 50176 |  [256] |        |        |            |  [256 2304] |\n",
      "| :batch-normalization |   256x14x14 - 50176 |   256x14x14 - 50176 |  [256] |  [256] |  [256] |      [256] |             |\n",
      "|                :relu |   256x14x14 - 50176 |   256x14x14 - 50176 |        |        |        |            |             |\n",
      "|       :convolutional |   256x14x14 - 50176 | 1024x14x14 - 200704 | [1024] |        |        |            |  [1024 256] |\n",
      "| :batch-normalization | 1024x14x14 - 200704 | 1024x14x14 - 200704 | [1024] | [1024] | [1024] |     [1024] |             |\n",
      "|                :join | 1024x14x14 - 200704 | 1024x14x14 - 200704 |        |        |        |            |             |\n",
      "|                :relu | 1024x14x14 - 200704 | 1024x14x14 - 200704 |        |        |        |            |             |\n",
      "|       :convolutional | 1024x14x14 - 200704 |   256x14x14 - 50176 |  [256] |        |        |            |  [256 1024] |\n",
      "| :batch-normalization |   256x14x14 - 50176 |   256x14x14 - 50176 |  [256] |  [256] |  [256] |      [256] |             |\n",
      "|                :relu |   256x14x14 - 50176 |   256x14x14 - 50176 |        |        |        |            |             |\n",
      "|       :convolutional |   256x14x14 - 50176 |   256x14x14 - 50176 |  [256] |        |        |            |  [256 2304] |\n",
      "| :batch-normalization |   256x14x14 - 50176 |   256x14x14 - 50176 |  [256] |  [256] |  [256] |      [256] |             |\n",
      "|                :relu |   256x14x14 - 50176 |   256x14x14 - 50176 |        |        |        |            |             |\n",
      "|       :convolutional |   256x14x14 - 50176 | 1024x14x14 - 200704 | [1024] |        |        |            |  [1024 256] |\n",
      "| :batch-normalization | 1024x14x14 - 200704 | 1024x14x14 - 200704 | [1024] | [1024] | [1024] |     [1024] |             |\n",
      "|                :join | 1024x14x14 - 200704 | 1024x14x14 - 200704 |        |        |        |            |             |\n",
      "|                :relu | 1024x14x14 - 200704 | 1024x14x14 - 200704 |        |        |        |            |             |\n",
      "|       :convolutional | 1024x14x14 - 200704 |   256x14x14 - 50176 |  [256] |        |        |            |  [256 1024] |\n",
      "| :batch-normalization |   256x14x14 - 50176 |   256x14x14 - 50176 |  [256] |  [256] |  [256] |      [256] |             |\n",
      "|                :relu |   256x14x14 - 50176 |   256x14x14 - 50176 |        |        |        |            |             |\n",
      "|       :convolutional |   256x14x14 - 50176 |   256x14x14 - 50176 |  [256] |        |        |            |  [256 2304] |\n",
      "| :batch-normalization |   256x14x14 - 50176 |   256x14x14 - 50176 |  [256] |  [256] |  [256] |      [256] |             |\n",
      "|                :relu |   256x14x14 - 50176 |   256x14x14 - 50176 |        |        |        |            |             |\n",
      "|       :convolutional |   256x14x14 - 50176 | 1024x14x14 - 200704 | [1024] |        |        |            |  [1024 256] |\n",
      "| :batch-normalization | 1024x14x14 - 200704 | 1024x14x14 - 200704 | [1024] | [1024] | [1024] |     [1024] |             |\n",
      "|                :join | 1024x14x14 - 200704 | 1024x14x14 - 200704 |        |        |        |            |             |\n",
      "|                :relu | 1024x14x14 - 200704 | 1024x14x14 - 200704 |        |        |        |            |             |\n",
      "|       :convolutional | 1024x14x14 - 200704 |   256x14x14 - 50176 |  [256] |        |        |            |  [256 1024] |\n",
      "| :batch-normalization |   256x14x14 - 50176 |   256x14x14 - 50176 |  [256] |  [256] |  [256] |      [256] |             |\n",
      "|                :relu |   256x14x14 - 50176 |   256x14x14 - 50176 |        |        |        |            |             |\n",
      "|       :convolutional |   256x14x14 - 50176 |   256x14x14 - 50176 |  [256] |        |        |            |  [256 2304] |\n",
      "| :batch-normalization |   256x14x14 - 50176 |   256x14x14 - 50176 |  [256] |  [256] |  [256] |      [256] |             |\n",
      "|                :relu |   256x14x14 - 50176 |   256x14x14 - 50176 |        |        |        |            |             |\n",
      "|       :convolutional |   256x14x14 - 50176 | 1024x14x14 - 200704 | [1024] |        |        |            |  [1024 256] |\n",
      "| :batch-normalization | 1024x14x14 - 200704 | 1024x14x14 - 200704 | [1024] | [1024] | [1024] |     [1024] |             |\n",
      "|                :join | 1024x14x14 - 200704 | 1024x14x14 - 200704 |        |        |        |            |             |\n",
      "|                :relu | 1024x14x14 - 200704 | 1024x14x14 - 200704 |        |        |        |            |             |\n",
      "|       :convolutional | 1024x14x14 - 200704 |   256x14x14 - 50176 |  [256] |        |        |            |  [256 1024] |\n",
      "| :batch-normalization |   256x14x14 - 50176 |   256x14x14 - 50176 |  [256] |  [256] |  [256] |      [256] |             |\n",
      "|                :relu |   256x14x14 - 50176 |   256x14x14 - 50176 |        |        |        |            |             |\n",
      "|       :convolutional |   256x14x14 - 50176 |   256x14x14 - 50176 |  [256] |        |        |            |  [256 2304] |\n",
      "| :batch-normalization |   256x14x14 - 50176 |   256x14x14 - 50176 |  [256] |  [256] |  [256] |      [256] |             |\n",
      "|                :relu |   256x14x14 - 50176 |   256x14x14 - 50176 |        |        |        |            |             |\n",
      "|       :convolutional |   256x14x14 - 50176 | 1024x14x14 - 200704 | [1024] |        |        |            |  [1024 256] |\n",
      "| :batch-normalization | 1024x14x14 - 200704 | 1024x14x14 - 200704 | [1024] | [1024] | [1024] |     [1024] |             |\n",
      "|                :join | 1024x14x14 - 200704 | 1024x14x14 - 200704 |        |        |        |            |             |\n",
      "|                :relu | 1024x14x14 - 200704 | 1024x14x14 - 200704 |        |        |        |            |             |\n",
      "|       :convolutional | 1024x14x14 - 200704 |     512x7x7 - 25088 |  [512] |        |        |            |  [512 1024] |\n",
      "| :batch-normalization |     512x7x7 - 25088 |     512x7x7 - 25088 |  [512] |  [512] |  [512] |      [512] |             |\n",
      "|                :relu |     512x7x7 - 25088 |     512x7x7 - 25088 |        |        |        |            |             |\n",
      "|       :convolutional |     512x7x7 - 25088 |     512x7x7 - 25088 |  [512] |        |        |            |  [512 4608] |\n",
      "| :batch-normalization |     512x7x7 - 25088 |     512x7x7 - 25088 |  [512] |  [512] |  [512] |      [512] |             |\n",
      "|                :relu |     512x7x7 - 25088 |     512x7x7 - 25088 |        |        |        |            |             |\n",
      "|       :convolutional |     512x7x7 - 25088 |   2048x7x7 - 100352 | [2048] |        |        |            |  [2048 512] |\n",
      "| :batch-normalization |   2048x7x7 - 100352 |   2048x7x7 - 100352 | [2048] | [2048] | [2048] |     [2048] |             |\n",
      "|       :convolutional | 1024x14x14 - 200704 |   2048x7x7 - 100352 | [2048] |        |        |            | [2048 1024] |\n",
      "| :batch-normalization |   2048x7x7 - 100352 |   2048x7x7 - 100352 | [2048] | [2048] | [2048] |     [2048] |             |\n",
      "|                :join |   2048x7x7 - 100352 |   2048x7x7 - 100352 |        |        |        |            |             |\n",
      "|                :relu |   2048x7x7 - 100352 |   2048x7x7 - 100352 |        |        |        |            |             |\n",
      "|       :convolutional |   2048x7x7 - 100352 |     512x7x7 - 25088 |  [512] |        |        |            |  [512 2048] |\n",
      "| :batch-normalization |     512x7x7 - 25088 |     512x7x7 - 25088 |  [512] |  [512] |  [512] |      [512] |             |\n",
      "|                :relu |     512x7x7 - 25088 |     512x7x7 - 25088 |        |        |        |            |             |\n",
      "|       :convolutional |     512x7x7 - 25088 |     512x7x7 - 25088 |  [512] |        |        |            |  [512 4608] |\n",
      "| :batch-normalization |     512x7x7 - 25088 |     512x7x7 - 25088 |  [512] |  [512] |  [512] |      [512] |             |\n",
      "|                :relu |     512x7x7 - 25088 |     512x7x7 - 25088 |        |        |        |            |             |\n",
      "|       :convolutional |     512x7x7 - 25088 |   2048x7x7 - 100352 | [2048] |        |        |            |  [2048 512] |\n",
      "| :batch-normalization |   2048x7x7 - 100352 |   2048x7x7 - 100352 | [2048] | [2048] | [2048] |     [2048] |             |\n",
      "|                :join |   2048x7x7 - 100352 |   2048x7x7 - 100352 |        |        |        |            |             |\n",
      "|                :relu |   2048x7x7 - 100352 |   2048x7x7 - 100352 |        |        |        |            |             |\n",
      "|       :convolutional |   2048x7x7 - 100352 |     512x7x7 - 25088 |  [512] |        |        |            |  [512 2048] |\n",
      "| :batch-normalization |     512x7x7 - 25088 |     512x7x7 - 25088 |  [512] |  [512] |  [512] |      [512] |             |\n",
      "|                :relu |     512x7x7 - 25088 |     512x7x7 - 25088 |        |        |        |            |             |\n",
      "|       :convolutional |     512x7x7 - 25088 |     512x7x7 - 25088 |  [512] |        |        |            |  [512 4608] |\n",
      "| :batch-normalization |     512x7x7 - 25088 |     512x7x7 - 25088 |  [512] |  [512] |  [512] |      [512] |             |\n",
      "|                :relu |     512x7x7 - 25088 |     512x7x7 - 25088 |        |        |        |            |             |\n",
      "|       :convolutional |     512x7x7 - 25088 |   2048x7x7 - 100352 | [2048] |        |        |            |  [2048 512] |\n",
      "| :batch-normalization |   2048x7x7 - 100352 |   2048x7x7 - 100352 | [2048] | [2048] | [2048] |     [2048] |             |\n",
      "|                :join |   2048x7x7 - 100352 |   2048x7x7 - 100352 |        |        |        |            |             |\n",
      "|                :relu |   2048x7x7 - 100352 |   2048x7x7 - 100352 |        |        |        |            |             |\n",
      "|         :max-pooling |   2048x7x7 - 100352 |     2048x1x1 - 2048 |        |        |        |            |             |\n",
      "|              :linear |     2048x1x1 - 2048 |           1x1x2 - 2 |    [2] |        |        |            |    [2 2048] |\n",
      "|             :softmax |           1x1x2 - 2 |           1x1x2 - 2 |        |        |        |            |             |\n",
      "Parameter count: 23591810\n"
     ]
    }
   ],
   "source": [
    "(network/print-layer-summary cats-dogs-network (traverse/training-traversal cats-dogs-network))"
   ]
  },
  {
   "cell_type": "markdown",
   "metadata": {},
   "source": [
    "Notice that the last linear and softmax layers have been replaced. Another point is that the weights are frozen except for the last 2 layers"
   ]
  },
  {
   "cell_type": "code",
   "execution_count": 52,
   "metadata": {
    "collapsed": false,
    "jupyter": {
     "outputs_hidden": false
    }
   },
   "outputs": [
    {
     "name": "stdout",
     "output_type": "stream",
     "text": [
      "({:name :labels, :non-trainable? nil}\n",
      " {:name :softmax-loss-1, :non-trainable? nil}\n",
      " {:name :fc2, :non-trainable? nil}\n",
      " {:name :res2a_branch2b, :non-trainable? true}\n",
      " {:name :bn4f_branch2b, :non-trainable? true}\n",
      " {:name :bn4e_branch2b, :non-trainable? true}\n",
      " {:name :activation_2, :non-trainable? true}\n",
      " {:name :res4f_branch2a, :non-trainable? true}\n",
      " {:name :activation_29, :non-trainable? true}\n",
      " {:name :add_16, :non-trainable? true}\n",
      " {:name :activation_48, :non-trainable? true}\n",
      " {:name :res4e_branch2b, :non-trainable? true}\n",
      " {:name :activation_6, :non-trainable? true}\n",
      " {:name :add_9, :non-trainable? true}\n",
      " {:name :res2a_branch2a, :non-trainable? true}\n",
      " {:name :res4d_branch2a, :non-trainable? true}\n",
      " {:name :res2c_branch2b, :non-trainable? true}\n",
      " {:name :bn5c_branch2a, :non-trainable? true}\n",
      " {:name :add_8, :non-trainable? true}\n",
      " {:name :activation_31-split, :non-trainable? true}\n",
      " {:name :res5c_branch2c, :non-trainable? true}\n",
      " {:name :add_7, :non-trainable? true}\n",
      " {:name :add_1, :non-trainable? true}\n",
      " {:name :bn2b_branch2a, :non-trainable? true}\n",
      " {:name :bn4c_branch2a, :non-trainable? true}\n",
      " {:name :res5a_branch2c, :non-trainable? true}\n",
      " {:name :activation_18, :non-trainable? true}\n",
      " {:name :bn5a_branch2c, :non-trainable? true}\n",
      " {:name :res3d_branch2a, :non-trainable? true}\n",
      " {:name :add_11, :non-trainable? true}\n",
      " {:name :res4a_branch2a, :non-trainable? true}\n",
      " {:name :add_6, :non-trainable? true}\n",
      " {:name :res3b_branch2b, :non-trainable? true}\n",
      " {:name :bn3d_branch2a, :non-trainable? true}\n",
      " {:name :res2b_branch2b, :non-trainable? true}\n",
      " {:name :res4e_branch2a, :non-trainable? true}\n",
      " {:name :activation_7, :non-trainable? true}\n",
      " {:name :bn_conv1, :non-trainable? true}\n",
      " {:name :bn4b_branch2a, :non-trainable? true}\n",
      " {:name :activation_37, :non-trainable? true}\n",
      " {:name :bn4f_branch2c, :non-trainable? true}\n",
      " {:name :res3a_branch2a, :non-trainable? true}\n",
      " {:name :activation_35, :non-trainable? true}\n",
      " {:name :bn2b_branch2b, :non-trainable? true}\n",
      " {:name :activation_15, :non-trainable? true}\n",
      " {:name :activation_24, :non-trainable? true}\n",
      " {:name :bn5b_branch2b, :non-trainable? true}\n",
      " {:name :bn3b_branch2c, :non-trainable? true}\n",
      " {:name :activation_47, :non-trainable? true}\n",
      " {:name :activation_40-split, :non-trainable? true}\n",
      " {:name :res4c_branch2c, :non-trainable? true}\n",
      " {:name :activation_8, :non-trainable? true}\n",
      " {:name :activation_13, :non-trainable? true}\n",
      " {:name :activation_26, :non-trainable? true}\n",
      " {:name :activation_45, :non-trainable? true}\n",
      " {:name :activation_19-split, :non-trainable? true}\n",
      " {:name :bn5b_branch2a, :non-trainable? true}\n",
      " {:name :res4c_branch2b, :non-trainable? true}\n",
      " {:name :activation_12, :non-trainable? true}\n",
      " {:name :activation_11, :non-trainable? true}\n",
      " {:name :activation_43, :non-trainable? true}\n",
      " {:name :res3b_branch2a, :non-trainable? true}\n",
      " {:name :activation_21, :non-trainable? true}\n",
      " {:name :res3c_branch2b, :non-trainable? true}\n",
      " {:name :res2a_branch2c, :non-trainable? true}\n",
      " {:name :bn4a_branch2a, :non-trainable? true}\n",
      " {:name :bn5b_branch2c, :non-trainable? true}\n",
      " {:name :bn4d_branch2a, :non-trainable? true}\n",
      " {:name :bn4a_branch2c, :non-trainable? true}\n",
      " {:name :bn4d_branch2b, :non-trainable? true}\n",
      " {:name :activation_19, :non-trainable? true}\n",
      " {:name :activation_44, :non-trainable? true}\n",
      " {:name :bn4c_branch2b, :non-trainable? true}\n",
      " {:name :activation_27, :non-trainable? true}\n",
      " {:name :activation_31, :non-trainable? true}\n",
      " {:name :add_4, :non-trainable? true}\n",
      " {:name :res5c_branch2a, :non-trainable? true}\n",
      " {:name :activation_34-split, :non-trainable? true}\n",
      " {:name :res4c_branch2a, :non-trainable? true}\n",
      " {:name :res4a_branch2c, :non-trainable? true}\n",
      " {:name :bn4a_branch2b, :non-trainable? true}\n",
      " {:name :activation_4, :non-trainable? true}\n",
      " {:name :activation_34, :non-trainable? true}\n",
      " {:name :bn2a_branch2b, :non-trainable? true}\n",
      " {:name :res4b_branch2a, :non-trainable? true}\n",
      " {:name :res3c_branch2a, :non-trainable? true}\n",
      " {:name :res3d_branch2c, :non-trainable? true}\n",
      " {:name :res5b_branch2b, :non-trainable? true}\n",
      " {:name :res4f_branch2b, :non-trainable? true}\n",
      " {:name :activation_39, :non-trainable? true}\n",
      " {:name :activation_10-split, :non-trainable? true}\n",
      " {:name :res3c_branch2c, :non-trainable? true}\n",
      " {:name :res3d_branch2b, :non-trainable? true}\n",
      " {:name :bn4b_branch2b, :non-trainable? true}\n",
      " {:name :res2b_branch2c, :non-trainable? true}\n",
      " {:name :bn4e_branch2a, :non-trainable? true}\n",
      " {:name :conv1, :non-trainable? true}\n",
      " {:name :activation_7-split, :non-trainable? true}\n",
      " {:name :activation_49, :non-trainable? true}\n",
      " {:name :bn5a_branch2a, :non-trainable? true}\n",
      " {:name :bn4e_branch2c, :non-trainable? true}\n",
      " {:name :bn3a_branch2c, :non-trainable? true}\n",
      " {:name :bn4b_branch2c, :non-trainable? true}\n",
      " {:name :activation_33, :non-trainable? true}\n",
      " {:name :bn5c_branch2c, :non-trainable? true}\n",
      " {:name :add_12, :non-trainable? true}\n",
      " {:name :activation_10, :non-trainable? true}\n",
      " {:name :avg_pool, :non-trainable? true}\n",
      " {:name :bn4c_branch2c, :non-trainable? true}\n",
      " {:name :activation_1, :non-trainable? true}\n",
      " {:name :activation_22-split, :non-trainable? true}\n",
      " {:name :activation_20, :non-trainable? true}\n",
      " {:name :activation_25, :non-trainable? true}\n",
      " {:name :res5c_branch2b, :non-trainable? true}\n",
      " {:name :activation_40, :non-trainable? true}\n",
      " {:name :activation_16-split, :non-trainable? true}\n",
      " {:name :add_3, :non-trainable? true}\n",
      " {:name :add_2, :non-trainable? true}\n",
      " {:name :bn4a_branch1, :non-trainable? true}\n",
      " {:name :bn3b_branch2b, :non-trainable? true}\n",
      " {:name :activation_28-split, :non-trainable? true}\n",
      " {:name :activation_46-split, :non-trainable? true}\n",
      " {:name :res4d_branch2c, :non-trainable? true}\n",
      " {:name :res4a_branch1, :non-trainable? true}\n",
      " {:name :bn3c_branch2a, :non-trainable? true}\n",
      " {:name :res4b_branch2b, :non-trainable? true}\n",
      " {:name :activation_23, :non-trainable? true}\n",
      " {:name :bn2c_branch2a, :non-trainable? true}\n",
      " {:name :activation_3, :non-trainable? true}\n",
      " {:name :res2b_branch2a, :non-trainable? true}\n",
      " {:name :activation_16, :non-trainable? true}\n",
      " {:name :res5a_branch1, :non-trainable? true}\n",
      " {:name :res3a_branch2c, :non-trainable? true}\n",
      " {:name :bn5a_branch1, :non-trainable? true}\n",
      " {:name :activation_17, :non-trainable? true}\n",
      " {:name :activation_46, :non-trainable? true}\n",
      " {:name :activation_41, :non-trainable? true}\n",
      " {:name :bn3a_branch1, :non-trainable? true}\n",
      " {:name :bn2a_branch2a, :non-trainable? true}\n",
      " {:name :res5b_branch2c, :non-trainable? true}\n",
      " {:name :bn5c_branch2b, :non-trainable? true}\n",
      " {:name :activation_43-split, :non-trainable? true}\n",
      " {:name :bn3a_branch2a, :non-trainable? true}\n",
      " {:name :res2c_branch2c, :non-trainable? true}\n",
      " {:name :activation_28, :non-trainable? true}\n",
      " {:name :bn3c_branch2c, :non-trainable? true}\n",
      " {:name :activation_38, :non-trainable? true}\n",
      " {:name :activation_42, :non-trainable? true}\n",
      " {:name :res4b_branch2c, :non-trainable? true}\n",
      " {:name :res5b_branch2a, :non-trainable? true}\n",
      " {:name :bn2a_branch2c, :non-trainable? true}\n",
      " {:name :bn2b_branch2c, :non-trainable? true}\n",
      " {:name :bn2a_branch1, :non-trainable? true}\n",
      " {:name :activation_37-split, :non-trainable? true}\n",
      " {:name :res4d_branch2b, :non-trainable? true}\n",
      " {:name :res3a_branch2b, :non-trainable? true}\n",
      " {:name :bn5a_branch2b, :non-trainable? true}\n",
      " {:name :activation_13-split, :non-trainable? true}\n",
      " {:name :res2c_branch2a, :non-trainable? true}\n",
      " {:name :res3b_branch2c, :non-trainable? true}\n",
      " {:name :activation_32, :non-trainable? true}\n",
      " {:name :bn3c_branch2b, :non-trainable? true}\n",
      " {:name :max_pooling2d_1-split, :non-trainable? true}\n",
      " {:name :res3a_branch1, :non-trainable? true}\n",
      " {:name :bn4f_branch2a, :non-trainable? true}\n",
      " {:name :bn2c_branch2c, :non-trainable? true}\n",
      " {:name :activation_14, :non-trainable? true}\n",
      " {:name :res5a_branch2b, :non-trainable? true}\n",
      " {:name :add_15, :non-trainable? true}\n",
      " {:name :res4f_branch2c, :non-trainable? true}\n",
      " {:name :res4a_branch2b, :non-trainable? true}\n",
      " {:name :add_14, :non-trainable? true}\n",
      " {:name :activation_25-split, :non-trainable? true}\n",
      " {:name :activation_4-split, :non-trainable? true}\n",
      " {:name :activation_22, :non-trainable? true}\n",
      " {:name :bn3d_branch2b, :non-trainable? true}\n",
      " {:name :res5a_branch2a, :non-trainable? true}\n",
      " {:name :res4e_branch2c, :non-trainable? true}\n",
      " {:name :res2a_branch1, :non-trainable? true}\n",
      " {:name :add_10, :non-trainable? true}\n",
      " {:name :bn4d_branch2c, :non-trainable? true}\n",
      " {:name :add_13, :non-trainable? true}\n",
      " {:name :bn3b_branch2a, :non-trainable? true}\n",
      " {:name :activation_5, :non-trainable? true}\n",
      " {:name :bn3a_branch2b, :non-trainable? true}\n",
      " {:name :bn3d_branch2c, :non-trainable? true}\n",
      " {:name :activation_36, :non-trainable? true}\n",
      " {:name :max_pooling2d_1, :non-trainable? true}\n",
      " {:name :activation_9, :non-trainable? true}\n",
      " {:name :activation_30, :non-trainable? true}\n",
      " {:name :data, :non-trainable? true}\n",
      " {:name :add_5, :non-trainable? true}\n",
      " {:name :bn2c_branch2b, :non-trainable? true})\n"
     ]
    }
   ],
   "source": [
    "(clojure.pprint/pprint (->> (map (fn [[name value]] {:name name :non-trainable? (:non-trainable? value)})\n",
    "                                (get-in cats-dogs-network [:compute-graph :nodes]))\n",
    "                            (sort-by :non-trainable?)))"
   ]
  },
  {
   "cell_type": "markdown",
   "metadata": {},
   "source": [
    "Now we're at a point where we can actually do the training. There is a function called `train` that takes a batch size. If you are running on your computer, and you have memory problems you can try decreasing the batch size or running the core code as an uber jar to do the training. The default is set to a batch size of 32. Another option is running on a AWS P2 compute instance.\n",
    "\n",
    "For me to be able to run on my old mac, I need to run the uberjar.\n",
    "\n",
    "If you want to do the uber jar:\n",
    "* `lein uberjar`\n",
    "* `java -jar target/cats-dogs-cortex-redux.jar`\n",
    "\n",
    "Using the GPU on my mac it takes approximately 6 minutes to train 1 epoch **Note: 1 epoch of fine tuning is all we need**\n",
    "\n",
    "```\n",
    "Loss for epoch 1: (current) 0.05875186542016347 (best) null\n",
    "Saving network to trained-network.nippy\n",
    "```\n",
    "\n",
    "The key point is that it saved the fine tuned network to `trained-network.nippy`\n",
    "\n"
   ]
  },
  {
   "cell_type": "markdown",
   "metadata": {},
   "source": [
    "*Note that we are only going to do 1 epoch of fine tuning*"
   ]
  },
  {
   "cell_type": "code",
   "execution_count": 1,
   "metadata": {
    "collapsed": false,
    "jupyter": {
     "outputs_hidden": false
    }
   },
   "outputs": [],
   "source": [
    "(ns cats-dogs-cortex-redux.notebook\n",
    "    (:require [cats-dogs-cortex-redux.core :as cats-dogs]\n",
    "              [clojure.java.shell :as shell]))"
   ]
  },
  {
   "cell_type": "markdown",
   "metadata": {},
   "source": [
    "Now we can test out things a bit. There is a `label-one` function that grabs a random image and classifies it"
   ]
  },
  {
   "cell_type": "markdown",
   "metadata": {},
   "source": [
    "_Note a window will popup with a the dog or cat picture in it_"
   ]
  },
  {
   "cell_type": "code",
   "execution_count": 2,
   "metadata": {
    "collapsed": false,
    "jupyter": {
     "outputs_hidden": false
    }
   },
   "outputs": [
    {
     "data": {
      "text/plain": [
       "{:answer \"dog\", :guess {:prob 0.9978577494621277, :class \"dog\"}}"
      ]
     },
     "execution_count": 2,
     "metadata": {},
     "output_type": "execute_result"
    }
   ],
   "source": [
    "(cats-dogs/label-one)"
   ]
  },
  {
   "cell_type": "markdown",
   "metadata": {
    "collapsed": true,
    "jupyter": {
     "outputs_hidden": true
    }
   },
   "source": [
    "### Step 3 - Run the Kaggle test predictions and get it into csv submission format\n",
    "\n",
    "You will need to do a bit more setup for this. First, you need to get the Kaggle test images for classification. There are 12500\n",
    "of these in the `test.zip` file from the site. Under the `data` directory, create a new directory called `kaggle-test`. Now unzip\n",
    "the contents of test.zip inside that folder. The full directory with all the test images should now be:\n",
    "\n",
    "`data/kaggle-test/test`\n",
    "\n",
    "This step takes a long time and you might have to tweak the batch size again depending on your memory. There are _12500_ predications to be made. The main logic for this is in function called `(kaggle-results batch-size)`. It will take a long time to run.\n",
    "It will print the results as it goes along to the `kaggle-results.csv` file. If you want to check progress you can do ` wc -l kaggle-results.csv`"
   ]
  },
  {
   "cell_type": "code",
   "execution_count": 1,
   "metadata": {
    "collapsed": true,
    "jupyter": {
     "outputs_hidden": true
    }
   },
   "outputs": [],
   "source": [
    "(ns cats-dogs-cortex-redux.notebook\n",
    "    (:require [cats-dogs-cortex-redux.core :as cats-dogs]\n",
    "              [clojure.java.shell :as shell]))"
   ]
  },
  {
   "cell_type": "code",
   "execution_count": 2,
   "metadata": {
    "collapsed": false,
    "jupyter": {
     "outputs_hidden": false
    }
   },
   "outputs": [
    {
     "name": "stdout",
     "output_type": "stream",
     "text": [
      "............................................................................................................................."
     ]
    },
    {
     "data": {
      "text/plain": [
       "clojure.lang.LazySeq@f331f79f"
      ]
     },
     "execution_count": 2,
     "metadata": {},
     "output_type": "execute_result"
    }
   ],
   "source": [
    "(cats-dogs/kaggle-results 100)"
   ]
  },
  {
   "cell_type": "markdown",
   "metadata": {},
   "source": [
    "Done! It took me about 28 minutes locally. \n",
    "\n",
    "Now you can take the `kaggle-results.csv` file and upload it to the competition and check your results!\n",
    "\n",
    "Mine was `0.10357` **Whoo!**"
   ]
  }
 ],
 "metadata": {
  "anaconda-cloud": {},
  "kernelspec": {
   "display_name": "Python 3 (ipykernel)",
   "language": "python",
   "name": "python3"
  },
  "language_info": {
   "codemirror_mode": {
    "name": "ipython",
    "version": 3
   },
   "file_extension": ".py",
   "mimetype": "text/x-python",
   "name": "python",
   "nbconvert_exporter": "python",
   "pygments_lexer": "ipython3",
   "version": "3.11.7"
  }
 },
 "nbformat": 4,
 "nbformat_minor": 4
}
