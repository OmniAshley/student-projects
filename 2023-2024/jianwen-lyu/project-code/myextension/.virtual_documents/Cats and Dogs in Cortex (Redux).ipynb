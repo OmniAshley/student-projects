








(require '[clojure.java.shell :as shell])

(-> (shell/sh "./get-resnet50.sh") :out println)


(-> (shell/sh "ls" "models") :out println)


(-> (shell/sh "ls" "-d" "data/train") :out println)








(ns cats-dogs-cortex-redux.notebook
    (:require [cats-dogs-cortex-redux.core :as cats-dogs]
              [clojure.java.shell :as shell]))





(cats-dogs/build-image-data)


(-> (shell/sh "ls" "data/cats-dogs-training/") :out println)


(-> (shell/sh "ls" "data/cats-dogs-testing/") :out println)





(require '[cortex.util :as util])

(def plain-res50 (util/read-nippy-file  "models/resnet50.nippy"))





(keys (:compute-graph plain-res50))


(clojure.pprint/pprint (sort (keys (get-in plain-res50 [:compute-graph :nodes]))))





(require '[cortex.nn.network :as network]
          '[cortex.nn.traverse :as traverse])


(network/print-layer-summary plain-res50 (traverse/training-traversal plain-res50))





(def cats-dogs-network (cats-dogs/load-network "models/resnet50.nippy" :fc1000 cats-dogs/layers-to-add))


(network/print-layer-summary cats-dogs-network (traverse/training-traversal cats-dogs-network))





(clojure.pprint/pprint (->> (map (fn [[name value]] {:name name :non-trainable? (:non-trainable? value)})
                                (get-in cats-dogs-network [:compute-graph :nodes]))
                            (sort-by :non-trainable?)))








(ns cats-dogs-cortex-redux.notebook
    (:require [cats-dogs-cortex-redux.core :as cats-dogs]
              [clojure.java.shell :as shell]))








(cats-dogs/label-one)





(ns cats-dogs-cortex-redux.notebook
    (:require [cats-dogs-cortex-redux.core :as cats-dogs]
              [clojure.java.shell :as shell]))


(cats-dogs/kaggle-results 100)



