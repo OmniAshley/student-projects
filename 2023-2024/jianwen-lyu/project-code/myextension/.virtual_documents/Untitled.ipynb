import matplotlib.pyplot

def dofunction():
    number = 1
    for i in range(1, 10):
        number += i;

    return number

print("hello: ", dofunction())








print("hello: ", dofunction())


print("hello: ", dofunction())


print("hello: ", dofunction())

print("hello: ", dofunction())
print("hello: ", dofunction())
print("hello: ", dofunction())
print("hello: ", dofunction())
print("test")





print("hello: ", dofunction())

print("hello: ", dofunction())
print("hello: ", dofunction())

print("hello: ", dofunction())
print("hello: ", dofunction())
print("hello: ", dofunction())

print("hello: ", dofunction())






