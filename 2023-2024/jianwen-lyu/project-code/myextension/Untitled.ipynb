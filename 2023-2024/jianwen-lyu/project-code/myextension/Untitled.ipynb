{
 "cells": [
  {
   "cell_type": "code",
   "execution_count": 2,
   "id": "a37d76db-539a-4f5f-858c-5e921caa7326",
   "metadata": {},
   "outputs": [
    {
     "name": "stdout",
     "output_type": "stream",
     "text": [
      "hello:  46\n"
     ]
    }
   ],
   "source": [
    "import matplotlib.pyplot\n",
    "\n",
    "def dofunction():\n",
    "    number = 1\n",
    "    for i in range(1, 10):\n",
    "        number += i;\n",
    "\n",
    "    return number\n",
    "\n",
    "print(\"hello: \", dofunction())"
   ]
  },
  {
   "cell_type": "code",
   "execution_count": 6,
   "id": "4ce80b6a-c061-4cfc-af95-0089c7775ad2",
   "metadata": {},
   "outputs": [
    {
     "name": "stdout",
     "output_type": "stream",
     "text": [
      "hello:  46\n"
     ]
    }
   ],
   "source": [
    "print(\"hello: \", dofunction())"
   ]
  },
  {
   "cell_type": "code",
   "execution_count": 5,
   "id": "4f7ad212-3694-417e-af67-0e1e61737c67",
   "metadata": {},
   "outputs": [
    {
     "name": "stdout",
     "output_type": "stream",
     "text": [
      "hello:  46\n"
     ]
    }
   ],
   "source": [
    "print(\"hello: \", dofunction())"
   ]
  },
  {
   "cell_type": "code",
   "execution_count": 4,
   "id": "8d5dd829-961e-4b06-910a-18f949c7cee7",
   "metadata": {},
   "outputs": [
    {
     "name": "stdout",
     "output_type": "stream",
     "text": [
      "hello:  46\n",
      "hello:  46\n",
      "hello:  46\n",
      "hello:  46\n",
      "hello:  46\n"
     ]
    }
   ],
   "source": [
    "print(\"hello: \", dofunction())\n",
    "\n",
    "print(\"hello: \", dofunction())\n",
    "print(\"hello: \", dofunction())\n",
    "print(\"hello: \", dofunction())\n",
    "print(\"hello: \", dofunction())"
   ]
  },
  {
   "cell_type": "code",
   "execution_count": 3,
   "id": "5cdf17b8-ba26-4661-8c89-0055f9de98df",
   "metadata": {},
   "outputs": [
    {
     "name": "stdout",
     "output_type": "stream",
     "text": [
      "hello:  46\n",
      "hello:  46\n",
      "hello:  46\n",
      "hello:  46\n",
      "hello:  46\n",
      "hello:  46\n",
      "hello:  46\n"
     ]
    }
   ],
   "source": [
    "print(\"hello: \", dofunction())\n",
    "\n",
    "print(\"hello: \", dofunction())\n",
    "print(\"hello: \", dofunction())\n",
    "\n",
    "print(\"hello: \", dofunction())\n",
    "print(\"hello: \", dofunction())\n",
    "print(\"hello: \", dofunction())\n",
    "\n",
    "print(\"hello: \", dofunction())"
   ]
  },
  {
   "cell_type": "code",
   "execution_count": null,
   "id": "344d4ef3-3a5d-4215-8b4a-fa8f110e2df8",
   "metadata": {},
   "outputs": [],
   "source": []
  }
 ],
 "metadata": {
  "kernelspec": {
   "display_name": "Python 3 (ipykernel)",
   "language": "python",
   "name": "python3"
  },
  "language_info": {
   "codemirror_mode": {
    "name": "ipython",
    "version": 3
   },
   "file_extension": ".py",
   "mimetype": "text/x-python",
   "name": "python",
   "nbconvert_exporter": "python",
   "pygments_lexer": "ipython3",
   "version": "3.10.2"
  }
 },
 "nbformat": 4,
 "nbformat_minor": 5
}
